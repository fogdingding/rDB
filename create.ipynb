{
 "cells": [
  {
   "cell_type": "code",
   "execution_count": 3,
   "metadata": {
    "collapsed": true
   },
   "outputs": [],
   "source": [
    "data = []\n",
    "data.append(\"key_1\")\n",
    "data.append(\"key_2\")\n",
    "data.append(\"key_3\")"
   ]
  },
  {
   "cell_type": "code",
   "execution_count": 4,
   "metadata": {
    "collapsed": true
   },
   "outputs": [],
   "source": [
    "# import"
   ]
  },
  {
   "cell_type": "code",
   "execution_count": 5,
   "metadata": {
    "collapsed": true
   },
   "outputs": [],
   "source": [
    "# 完成\n",
    "def get_import():\n",
    "    str_import = \"\"\"from random import randint, seed\n",
    "import time\"\"\"\n",
    "    return str_import"
   ]
  },
  {
   "cell_type": "code",
   "execution_count": 6,
   "metadata": {
    "collapsed": true
   },
   "outputs": [],
   "source": [
    "# SkipNode"
   ]
  },
  {
   "cell_type": "code",
   "execution_count": 7,
   "metadata": {
    "collapsed": true
   },
   "outputs": [],
   "source": [
    "def str_class_skipNode_parpmeter(key):\n",
    "    str_class_skipNode_parpmeter = \",{} = None \".format(key)\n",
    "    return str_class_skipNode_parpmeter"
   ]
  },
  {
   "cell_type": "code",
   "execution_count": 8,
   "metadata": {
    "collapsed": true
   },
   "outputs": [],
   "source": [
    "def str_class_skipNode_Self_parpmeter(key):\n",
    "    str_class_skipNode_Self_parpmeter = \"\\n\\t\\tself.{} = {}\".format(key,key)\n",
    "    return str_class_skipNode_Self_parpmeter"
   ]
  },
  {
   "cell_type": "code",
   "execution_count": 9,
   "metadata": {
    "collapsed": true
   },
   "outputs": [],
   "source": [
    "# 完成\n",
    "def get_str_class_skipNode(data):\n",
    "    str_class_skipNode = \"\"\"class SkipNode:\n",
    "\\tdef __init__(self, height = 0, elem = None ,key = None \"\"\"\n",
    "    for line in data:\n",
    "        tmp = \"\"\"\"\"\"\n",
    "        parpmeter = str_class_skipNode_parpmeter(line)\n",
    "        tmp = tmp+parpmeter\n",
    "        str_class_skipNode = str_class_skipNode+tmp\n",
    "    str_class_skipNode = str_class_skipNode+\"\"\"):\n",
    "\\t\\tself.next = [None]*height\n",
    "\\t\\tself.elem = elem\n",
    "\\t\\tself.key = key\"\"\"\n",
    "    for line in data:\n",
    "        tmp =\"\"\"\"\"\"\n",
    "        Self_parpmeter = str_class_skipNode_Self_parpmeter(line)\n",
    "        tmp = tmp + Self_parpmeter\n",
    "        str_class_skipNode += tmp\n",
    "    return str_class_skipNode"
   ]
  },
  {
   "cell_type": "code",
   "execution_count": 10,
   "metadata": {
    "collapsed": true
   },
   "outputs": [],
   "source": [
    "str_class_skipNode = get_str_class_skipNode(data)"
   ]
  },
  {
   "cell_type": "code",
   "execution_count": 11,
   "metadata": {
    "collapsed": true
   },
   "outputs": [],
   "source": [
    "# class_SkipList"
   ]
  },
  {
   "cell_type": "code",
   "execution_count": 12,
   "metadata": {
    "collapsed": true
   },
   "outputs": [],
   "source": [
    "def str_class_SkipList_parpmeter(key):\n",
    "    str_class_SkipList_parpmeter = \",{} = None \".format(key)\n",
    "    return str_class_SkipList_parpmeter"
   ]
  },
  {
   "cell_type": "code",
   "execution_count": 13,
   "metadata": {
    "collapsed": true
   },
   "outputs": [],
   "source": [
    "def str_class_SkipList_Self_parpmeter(key):\n",
    "    str_class_SkipList_Self_parpmeter = \",{} \".format(key)\n",
    "    return str_class_SkipList_Self_parpmeter"
   ]
  },
  {
   "cell_type": "code",
   "execution_count": 14,
   "metadata": {
    "collapsed": true
   },
   "outputs": [],
   "source": [
    "def get_class_SkipList(data):\n",
    "    str_class_SkipList = \"\"\"class SkipList:\n",
    "\\tdef __init__(self):\n",
    "\\t\\tself.head = SkipNode()\n",
    "\\t\\tself.len = 0\n",
    "\\t\\tself.maxHeight = 0\n",
    "\n",
    "\\tdef __len__(self):\n",
    "\\t\\treturn self.len\n",
    "\n",
    "\\tdef randomHeight(self):\n",
    "\\t\\theight = 1\n",
    "\\t\\twhile randint(1, 2)!= 1:\n",
    "\\t\\t\\theight += 1\n",
    "\\t\\treturn height\n",
    "\n",
    "\\tdef remove(self, elem):\n",
    "\\t\\tupdate = self.updateList(elem)\n",
    "\\t\\tx = self.find(elem, update)\n",
    "\\t\\tif x != None:\n",
    "\\t\\t\\tfor i in reversed(range(len(x.next))):\n",
    "\\t\\t\\t\\tupdate[i].next[i] = x.next[i]\n",
    "\\t\\t\\t\\tif self.head.next[i] == None:\n",
    "\\t\\t\\t\\t\\tself.maxHeight -= 1\n",
    "\\t\\t\\tself.len -= 1\n",
    "\n",
    "\\tdef printList(self):\n",
    "\\t\\tfor i in range(len(self.head.next)-1, -1, -1):\n",
    "\\t\\t\\tx = self.head\n",
    "\\t\\t\\twhile x.next[i] != None:\n",
    "\\t\\t\\t\\tprint (x.next[i].elem + '-',end=\"\")\n",
    "\\t\\t\\t\\tx = x.next[i]\n",
    "\\t\\t\\tprint ('')\n",
    "\n",
    "\\tdef find(self, elem, update = None):\n",
    "\\t\\tif update == None:\n",
    "\\t\\t\\tupdate = self.updateList(elem)\n",
    "\\t\\tif len(update) > 0:\n",
    "\\t\\t\\tcandidate = update[0].next[0]\n",
    "\\t\\t\\tif candidate != None and candidate.elem == elem:\n",
    "\\t\\t\\t\\treturn candidate\n",
    "\\t\\treturn None\n",
    "\n",
    "\\tdef contains(self, elem, update = None):\n",
    "\\t\\treturn self.find(elem, update) != None\n",
    "\n",
    "\\tdef updateList(self, elem):\n",
    "\\t\\tupdate = [None]*self.maxHeight\n",
    "\\t\\tx = self.head\n",
    "\\t\\tfor i in reversed(range(self.maxHeight)):\n",
    "\\t\\t\\twhile x.next[i] != None and x.next[i].elem < elem:\n",
    "\\t\\t\\t\\tx = x.next[i]\n",
    "\\t\\t\\tupdate[i] = x\n",
    "\\t\\treturn update\n",
    "\n",
    "\\tdef insert(self, elem, key\"\"\"\n",
    "    for line in data:\n",
    "        tmp = \"\"\"\"\"\"\n",
    "        parpmeter = str_class_SkipList_parpmeter(line)\n",
    "        tmp = tmp+parpmeter\n",
    "        str_class_SkipList = str_class_SkipList+tmp \n",
    "    str_class_SkipList += \"\"\"):\n",
    "\\t\\tnode = SkipNode(self.randomHeight(), elem, key \"\"\"\n",
    "    for line in data:\n",
    "        tmp =\"\"\"\"\"\"\n",
    "        Self_parpmeter = str_class_SkipList_Self_parpmeter(line)\n",
    "        tmp = tmp + Self_parpmeter\n",
    "        str_class_SkipList += tmp\n",
    "    str_class_SkipList += \"\"\")\n",
    "\\t\\tself.maxHeight = max(self.maxHeight, len(node.next))\n",
    "\\t\\twhile len(self.head.next) < len(node.next):\n",
    "\\t\\t\\tself.head.next.append(None)\n",
    "\\t\\tupdate = self.updateList(elem)            \n",
    "\\t\\tif self.find(elem, update) == None:\n",
    "\\t\\t\\tfor i in range(len(node.next)):\n",
    "\\t\\t\\t\\tnode.next[i] = update[i].next[i]\n",
    "\\t\\t\\t\\tupdate[i].next[i] = node\n",
    "\\t\\t\\tself.len += 1\"\"\"\n",
    "    return str_class_SkipList"
   ]
  },
  {
   "cell_type": "code",
   "execution_count": null,
   "metadata": {
    "collapsed": true
   },
   "outputs": [],
   "source": [
    "def get_ALL():\n",
    "    str_get_ALL = \"\"\"\"\"\"\n",
    "    tmp = \"\\tdef get_ALL(self):\\n\\t\\tdata = []\\n\\t\\tdata2 = []\\n\\t\\tx = self.head\\n\\t\\twhile x.next[0] != None:\\n\\t\\t\\tdata.append(x.next[0].elem)\\n\\t\\t\\tdata2.append(x.next[0].key)\\n\\t\\t\\tx = x.next[0]\\n\\t\\treturn data,data2\"\n",
    "    str_get_ALL += tmp\n",
    "    return str_get_ALL"
   ]
  },
  {
   "cell_type": "code",
   "execution_count": null,
   "metadata": {
    "collapsed": true
   },
   "outputs": [],
   "source": []
  },
  {
   "cell_type": "code",
   "execution_count": 19,
   "metadata": {
    "collapsed": true
   },
   "outputs": [],
   "source": [
    "def create_table(data):\n",
    "    str_import = get_import()\n",
    "    str_class_skipNode = get_str_class_skipNode(data)\n",
    "    str_class_SkipList = get_class_SkipList(data)\n",
    "    str_get_ALL = get_ALL()\n",
    "    with open(\"test.py\",'w',encoding='utf-8') as f:\n",
    "            f.write(str_import)\n",
    "            f.write(\"\\n\")\n",
    "            f.write(str_class_skipNode)\n",
    "            f.write(\"\\n\")\n",
    "            f.write(str_class_SkipList)\n",
    "            f.write(\"\\n\")\n",
    "            f.write(\"\\n\")\n",
    "            f.write(str_get_ALL)\n",
    "            f.write(\"\\n\")"
   ]
  },
  {
   "cell_type": "code",
   "execution_count": 20,
   "metadata": {},
   "outputs": [],
   "source": []
  },
  {
   "cell_type": "code",
   "execution_count": null,
   "metadata": {
    "collapsed": true
   },
   "outputs": [],
   "source": [
    "#神奇FIND\n",
    "#好像不用，因為不能這樣用。"
   ]
  },
  {
   "cell_type": "code",
   "execution_count": 124,
   "metadata": {
    "collapsed": true
   },
   "outputs": [],
   "source": [
    "def get_find_function(key_Word):\n",
    "    find_function = \"\"\"\\tdef find_\"\"\"\n",
    "    tmp = \"\"\"\"\"\"\n",
    "    find_parpmeter = \"{}(self, elem, update = None):\".format(key_Word)\n",
    "    tmp +=find_parpmeter\n",
    "    find_function += tmp\n",
    "    tmp = \"\"\"\"\"\"\n",
    "    tmp = \"\"\"\\n\\t\\tif update == None:\n",
    "\\t\\t\\tupdate = self.updateList_\"\"\"\n",
    "    updateList_parpmeter = \"{}(elem)\".format(key_Word)\n",
    "    tmp += updateList_parpmeter\n",
    "    find_function += tmp\n",
    "    tmp = \"\"\"\"\"\"\n",
    "    tmp = \"\"\"\n",
    "\\t\\tif len(update) > 0:\n",
    "\\t\\t\\tcandidate_\"\"\"\n",
    "    candidate_parpmeter = \"{} = update[0].next[0]\\n\\t\\t\\tif candidate_{} != None and candidate_{}.{} == elem:\\n\\t\\t\\t\\treturn candidate_{}\\n\\t\\treturn None\".format(key_Word,key_Word,key_Word,key_Word,key_Word)\n",
    "    tmp += candidate_parpmeter\n",
    "    find_function += tmp\n",
    "    return find_function"
   ]
  },
  {
   "cell_type": "code",
   "execution_count": 125,
   "metadata": {
    "collapsed": true
   },
   "outputs": [],
   "source": [
    "def get_contains_funtion(key_Word):\n",
    "    contains_function = \"\"\"\"\"\"\n",
    "    tmp = \"\\tdef contains_{}(self, elem, update = None):\\n\\t\\treturn self.find_{}(elem, update) != None\".format(key_Word,key_Word) \n",
    "    contains_function += tmp\n",
    "    return contains_function"
   ]
  },
  {
   "cell_type": "code",
   "execution_count": 126,
   "metadata": {
    "collapsed": true
   },
   "outputs": [],
   "source": [
    "def get_updateList_funtion(key_Word):\n",
    "    updateList_function = \"\"\"\"\"\"\n",
    "    tmp = \"\\tdef updateList_{}(self, elem):\\n\\t\\tupdate = [None]*self.maxHeight\\n\\t\\tx = self.head\\n\\t\\tfor i in reversed(range(self.maxHeight)):\\n\\t\\t\\twhile x.next[i] != None and x.next[i].{} < elem:\\n\\t\\t\\t\\tx = x.next[i]\\n\\t\\t\\tupdate[i] = x\\n\\t\\treturn update\".format(key_Word,key_Word) \n",
    "    \n",
    "    updateList_function += tmp\n",
    "    return updateList_function"
   ]
  },
  {
   "cell_type": "code",
   "execution_count": null,
   "metadata": {
    "collapsed": true
   },
   "outputs": [],
   "source": []
  },
  {
   "cell_type": "code",
   "execution_count": null,
   "metadata": {
    "collapsed": true
   },
   "outputs": [],
   "source": []
  }
 ],
 "metadata": {
  "kernelspec": {
   "display_name": "Python 3",
   "language": "python",
   "name": "python3"
  },
  "language_info": {
   "codemirror_mode": {
    "name": "ipython",
    "version": 3
   },
   "file_extension": ".py",
   "mimetype": "text/x-python",
   "name": "python",
   "nbconvert_exporter": "python",
   "pygments_lexer": "ipython3",
   "version": "3.6.3"
  }
 },
 "nbformat": 4,
 "nbformat_minor": 2
}
