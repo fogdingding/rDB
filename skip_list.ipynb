{
 "cells": [
  {
   "cell_type": "code",
   "execution_count": null,
   "metadata": {
    "collapsed": true
   },
   "outputs": [],
   "source": [
    "from random import randint, seed\n",
    "\n",
    "class SkipNode:\n",
    "    \"\"\"A node from a skip list\"\"\"    \n",
    "    def __init__(self, height = 0, elem = None):\n",
    "        self.elem = elem\n",
    "        self.next = [None]*height\n",
    "\n",
    "class SkipList:\n",
    "\n",
    "    def __init__(self):\n",
    "        self.head = SkipNode()\n",
    "        self.len = 0\n",
    "        self.maxHeight = 0\n",
    "\n",
    "    def __len__(self):\n",
    "        return self.len\n",
    "\n",
    "    def find(self, elem, update = None):\n",
    "        if update == None:\n",
    "            update = self.updateList(elem)\n",
    "        if len(update) > 0:\n",
    "            candidate = update[0].next[0]\n",
    "            if candidate != None and candidate.elem == elem:\n",
    "                return candidate\n",
    "        return None\n",
    "    \n",
    "    def contains(self, elem, update = None):\n",
    "        return self.find(elem, update) != None\n",
    "\n",
    "    def randomHeight(self):\n",
    "        height = 1\n",
    "        while randint(1, 2) != 1:\n",
    "            height += 1\n",
    "        return height\n",
    "\n",
    "    def updateList(self, elem):\n",
    "        update = [None]*self.maxHeight\n",
    "        x = self.head\n",
    "        for i in reversed(range(self.maxHeight)):\n",
    "            while x.next[i] != None and x.next[i].elem < elem:\n",
    "                x = x.next[i]\n",
    "            update[i] = x\n",
    "        return update\n",
    "        \n",
    "    def insert(self, elem):\n",
    "\n",
    "        node = SkipNode(self.randomHeight(), elem)\n",
    "\n",
    "        self.maxHeight = max(self.maxHeight, len(node.next))\n",
    "        while len(self.head.next) < len(node.next):\n",
    "            self.head.next.append(None)\n",
    "\n",
    "        update = self.updateList(elem)            \n",
    "        if self.find(elem, update) == None:\n",
    "            for i in range(len(node.next)):\n",
    "                node.next[i] = update[i].next[i]\n",
    "                update[i].next[i] = node\n",
    "            self.len += 1\n",
    "\n",
    "    def remove(self, elem):\n",
    "\n",
    "        update = self.updateList(elem)\n",
    "        x = self.find(elem, update)\n",
    "        if x != None:\n",
    "            for i in reversed(range(len(x.next))):\n",
    "                update[i].next[i] = x.next[i]\n",
    "                if self.head.next[i] == None:\n",
    "                    self.maxHeight -= 1\n",
    "            self.len -= 1            \n",
    "                \n",
    "    def printList(self):\n",
    "        for i in range(len(self.head.next)-1, -1, -1):\n",
    "            x = self.head\n",
    "            while x.next[i] != None:\n",
    "                print (x.next[i].elem + '-',end=\"\")\n",
    "                x = x.next[i]\n",
    "            print ('')\n"
   ]
  },
  {
   "cell_type": "code",
   "execution_count": null,
   "metadata": {
    "collapsed": true
   },
   "outputs": [],
   "source": [
    "sSkipList = SkipList()"
   ]
  },
  {
   "cell_type": "code",
   "execution_count": null,
   "metadata": {
    "collapsed": true
   },
   "outputs": [],
   "source": [
    "sSkipList.insert(\"https://www.youtube.com/watch?v=1R2vIsIPI38\")\n",
    "sSkipList.insert(\"https://www.youtube.com/watch?v=1R2vIsIPI38\")\n",
    "sSkipList.insert(\"https://www.youtube.com/watch?v=adex5YdEbOs\")\n",
    "sSkipList.insert(\"https://www.youtube.com/watch?v=vlCumuwLkEM\")\n",
    "sSkipList.insert(\"https://www.youtube.com/watch?v=d25EQaECNnU\")\n",
    "sSkipList.insert(\"https://www.youtube.com/watch?v=Qh8DoWbumgs&t=4s\")\n",
    "sSkipList.insert(\"https://www.youtube.com/watch?v=OE9mcx_iJrE\")\n",
    "sSkipList.insert(\"https://www.youtube.com/watch?v=OE9mcx_iJrE\")"
   ]
  },
  {
   "cell_type": "code",
   "execution_count": null,
   "metadata": {
    "collapsed": true
   },
   "outputs": [],
   "source": [
    "for i in range(20):\n",
    "    sSkipList.insert(\"{}\".format(i))"
   ]
  },
  {
   "cell_type": "code",
   "execution_count": null,
   "metadata": {},
   "outputs": [],
   "source": [
    "sSkipList.printList()"
   ]
  },
  {
   "cell_type": "code",
   "execution_count": null,
   "metadata": {
    "collapsed": true
   },
   "outputs": [],
   "source": []
  }
 ],
 "metadata": {
  "kernelspec": {
   "display_name": "Python 3",
   "language": "python",
   "name": "python3"
  },
  "language_info": {
   "codemirror_mode": {
    "name": "ipython",
    "version": 3
   },
   "file_extension": ".py",
   "mimetype": "text/x-python",
   "name": "python",
   "nbconvert_exporter": "python",
   "pygments_lexer": "ipython3",
   "version": "3.6.3"
  }
 },
 "nbformat": 4,
 "nbformat_minor": 2
}
