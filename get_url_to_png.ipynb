{
 "cells": [
  {
   "cell_type": "code",
   "execution_count": null,
   "metadata": {
    "collapsed": true
   },
   "outputs": [],
   "source": [
    "# -*- coding: utf-8 -*-"
   ]
  },
  {
   "cell_type": "code",
   "execution_count": null,
   "metadata": {},
   "outputs": [],
   "source": [
    "import asyncio\n",
    "import os\n",
    "from pyppeteer import launch\n",
    "\n",
    "\n",
    "class Webscreenshooter():\n",
    "    def gen_output_path(self, from_url, output_dir):\n",
    "        base_name = from_url.replace('.html', '').split('/')[-1]\n",
    "        file_name = \"{}.png\".format(base_name)\n",
    "        output_path = os.path.join(output_dir, file_name)\n",
    "        return output_path, file_name\n",
    "\n",
    "    async def screenshot(self, url, output_path):\n",
    "        browser = await launch(args=['--no-sandbox'])\n",
    "        page = await browser.newPage()\n",
    "        await page.setViewport({'width': 1080, 'height': 640})\n",
    "        await page.goto(url)\n",
    "        await page.screenshot({'path': output_path})\n",
    "        await browser.close()\n",
    "\n",
    "    def take_screenshot(self, url, output_path):\n",
    "        asyncio.get_event_loop().run_until_complete(self.screenshot(url, output_path))\n",
    "        print('web screenshot complete')\n",
    "\n",
    "\n",
    "if __name__ == '__main__':\n",
    "    ws = Webscreenshooter()\n",
    "    url = 'https://http.cat'\n",
    "    output_dir = './plots'\n",
    "\n",
    "    output_path, file_name = ws.gen_output_path(url, output_dir)\n",
    "    ws.take_screenshot(url, output_path)\n",
    "    print(output_path, file_name)"
   ]
  },
  {
   "cell_type": "code",
   "execution_count": null,
   "metadata": {
    "collapsed": true
   },
   "outputs": [],
   "source": []
  }
 ],
 "metadata": {
  "kernelspec": {
   "display_name": "Python 3",
   "language": "python",
   "name": "python3"
  },
  "language_info": {
   "codemirror_mode": {
    "name": "ipython",
    "version": 3
   },
   "file_extension": ".py",
   "mimetype": "text/x-python",
   "name": "python",
   "nbconvert_exporter": "python",
   "pygments_lexer": "ipython3",
   "version": "3.6.3"
  }
 },
 "nbformat": 4,
 "nbformat_minor": 2
}
