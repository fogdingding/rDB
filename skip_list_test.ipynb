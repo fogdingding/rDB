{
 "cells": [
  {
   "cell_type": "code",
   "execution_count": null,
   "metadata": {
    "collapsed": true
   },
   "outputs": [],
   "source": [
    "import time"
   ]
  },
  {
   "cell_type": "code",
   "execution_count": null,
   "metadata": {
    "collapsed": true
   },
   "outputs": [],
   "source": [
    "from random import randint, seed\n",
    "\n",
    "class SkipNode:\n",
    "    \"\"\"A node from a skip list\"\"\"    \n",
    "    def __init__(self, height = 0, elem = None , key=None):\n",
    "        self.key = key\n",
    "        self.elem = elem\n",
    "        self.next = [None]*height\n",
    "\n",
    "class SkipList:\n",
    "\n",
    "    def __init__(self):\n",
    "        self.head = SkipNode()\n",
    "        self.len = 0\n",
    "        self.maxHeight = 0\n",
    "\n",
    "    def __len__(self):\n",
    "        return self.len\n",
    "\n",
    "    def find(self, elem, update = None):\n",
    "        if update == None:\n",
    "            update = self.updateList(elem)\n",
    "        if len(update) > 0:\n",
    "            candidate = update[0].next[0]\n",
    "            if candidate != None and candidate.elem == elem:\n",
    "                return candidate\n",
    "        return None\n",
    "    \n",
    "    def contains(self, elem, update = None):\n",
    "        return self.find(elem, update) != None\n",
    "    \n",
    "    def randomHeight(self):\n",
    "        height = 1\n",
    "        while randint(1, 2)!= 1:\n",
    "            height += 1\n",
    "        return height\n",
    "\n",
    "    def updateList(self, elem):\n",
    "        update = [None]*self.maxHeight\n",
    "        x = self.head\n",
    "        for i in reversed(range(self.maxHeight)):\n",
    "            while x.next[i] != None and x.next[i].elem < elem:\n",
    "                x = x.next[i]\n",
    "            update[i] = x\n",
    "        return update\n",
    "        \n",
    "    def insert(self, elem, key):\n",
    "\n",
    "        node = SkipNode(self.randomHeight(), elem, key)\n",
    "\n",
    "        self.maxHeight = max(self.maxHeight, len(node.next))\n",
    "        while len(self.head.next) < len(node.next):\n",
    "            self.head.next.append(None)\n",
    "\n",
    "        update = self.updateList(elem)            \n",
    "        if self.find(elem, update) == None:\n",
    "            for i in range(len(node.next)):\n",
    "                node.next[i] = update[i].next[i]\n",
    "                update[i].next[i] = node\n",
    "            self.len += 1\n",
    "\n",
    "    def remove(self, elem):\n",
    "\n",
    "        update = self.updateList(elem)\n",
    "        x = self.find(elem, update)\n",
    "        if x != None:\n",
    "            for i in reversed(range(len(x.next))):\n",
    "                update[i].next[i] = x.next[i]\n",
    "                if self.head.next[i] == None:\n",
    "                    self.maxHeight -= 1\n",
    "            self.len -= 1            \n",
    "                \n",
    "    def printList(self):\n",
    "        for i in range(len(self.head.next)-1, -1, -1):\n",
    "            x = self.head\n",
    "            while x.next[i] != None:\n",
    "                print (x.next[i].elem + '-',end=\"\")\n",
    "                x = x.next[i]\n",
    "            print ('')\n",
    "    \n",
    "    def get_ALL(self):\n",
    "        data = []\n",
    "        data2 = []\n",
    "        x = self.head\n",
    "        while x.next[0] != None:\n",
    "            data.append(x.next[0].elem)\n",
    "            data2.append(x.next[0].key)\n",
    "            x = x.next[0]\n",
    "        return data,data2\n",
    "\n",
    "    def find_full_one(self, elem, update = None):\n",
    "        if update == None:\n",
    "            pdate = self.updateList(elem)\n",
    "        if len(update) > 0:\n",
    "            candidate = update[0].next[0]\n",
    "            if candidate != None and (candidate.elem.find(elem) == -1):\n",
    "                return candidate \n",
    "        return None\n",
    "    \n",
    "    def updateList(self, elem):\n",
    "        update = [None]*self.maxHeight\n",
    "        x = self.head\n",
    "        for i in reversed(range(self.maxHeight)):\n",
    "            while x.next[i] != None and x.next[i].elem < elem:\n",
    "                x = x.next[i]\n",
    "            update[i] = x\n",
    "        return update\n",
    "    \n",
    "\n"
   ]
  },
  {
   "cell_type": "code",
   "execution_count": null,
   "metadata": {
    "collapsed": true
   },
   "outputs": [],
   "source": [
    "url_list = [\"https://www.youtube.com/watch?v=1R2vIsIPI38\",\"https://www.youtube.com/watch?v=1R2vIsIPI38\",\"https://www.youtube.com/watch?v=adex5YdEbOs\",\"https://www.youtube.com/watch?v=vlCumuwLkEM\",\"https://www.youtube.com/watch?v=d25EQaECNnU\",\"https://www.youtube.com/watch?v=Qh8DoWbumgs&t=4s\",\"https://www.youtube.com/watch?v=OE9mcx_iJrE\"]"
   ]
  },
  {
   "cell_type": "code",
   "execution_count": null,
   "metadata": {
    "collapsed": true
   },
   "outputs": [],
   "source": [
    "sSkipList = SkipList()"
   ]
  },
  {
   "cell_type": "code",
   "execution_count": null,
   "metadata": {},
   "outputs": [],
   "source": [
    "for index,url in enumerate (url_list):\n",
    "    key = \"node_{}\".format(index)\n",
    "    elem = url\n",
    "    sSkipList.insert(key,elem,)\n",
    "    print(\"{}-{}\".format(key,elem))"
   ]
  },
  {
   "cell_type": "code",
   "execution_count": null,
   "metadata": {},
   "outputs": [],
   "source": [
    "sSkipList.printList()"
   ]
  },
  {
   "cell_type": "code",
   "execution_count": null,
   "metadata": {},
   "outputs": [],
   "source": [
    "sSkipList.get_ALL()"
   ]
  },
  {
   "cell_type": "code",
   "execution_count": null,
   "metadata": {
    "collapsed": true
   },
   "outputs": [],
   "source": [
    "node = sSkipList.find('node_0')"
   ]
  },
  {
   "cell_type": "code",
   "execution_count": null,
   "metadata": {},
   "outputs": [],
   "source": [
    "type(node)"
   ]
  },
  {
   "cell_type": "code",
   "execution_count": null,
   "metadata": {},
   "outputs": [],
   "source": [
    "print(node.key)\n",
    "print(node.elem)"
   ]
  },
  {
   "cell_type": "code",
   "execution_count": null,
   "metadata": {},
   "outputs": [],
   "source": [
    "print(type(node.elem))"
   ]
  },
  {
   "cell_type": "code",
   "execution_count": null,
   "metadata": {},
   "outputs": [],
   "source": [
    "node_1 = sSkipList.find_full_one('https://www.youtube.com/watch?v=1R2vIsIPI38')"
   ]
  },
  {
   "cell_type": "code",
   "execution_count": null,
   "metadata": {},
   "outputs": [],
   "source": [
    "\"1230\".find(\"4\")"
   ]
  },
  {
   "cell_type": "code",
   "execution_count": null,
   "metadata": {},
   "outputs": [],
   "source": [
    "type(node_1)"
   ]
  },
  {
   "cell_type": "code",
   "execution_count": null,
   "metadata": {},
   "outputs": [],
   "source": [
    "print(node_1.key)\n",
    "print(node_1.elem)"
   ]
  },
  {
   "cell_type": "code",
   "execution_count": null,
   "metadata": {
    "collapsed": true
   },
   "outputs": [],
   "source": [
    "def get_dd():\n",
    "    dd = {\"@url:\" : 0, \"@title:\" : 0, \"@content:\" : 0, \"@viewCount:\":0, \"@res:\":0, \"@duration:\":0 }\n",
    "    return dd"
   ]
  },
  {
   "cell_type": "code",
   "execution_count": null,
   "metadata": {
    "collapsed": true
   },
   "outputs": [],
   "source": [
    "def get_ddc():\n",
    "    dd = {\"@url:\" : \"\", \"@title:\" : \"\", \"@content:\" : \"\", \"@viewCount:\":\"\", \"@res:\":\"\", \"@duration:\":\"\" ,\"@\":\"\"}\n",
    "    return dd"
   ]
  },
  {
   "cell_type": "code",
   "execution_count": null,
   "metadata": {
    "collapsed": true
   },
   "outputs": [],
   "source": [
    "def get_bool(dd):\n",
    "    for i in dd:\n",
    "        if (dd[i] == 0):\n",
    "            return False\n",
    "    return True"
   ]
  },
  {
   "cell_type": "code",
   "execution_count": null,
   "metadata": {
    "collapsed": true
   },
   "outputs": [],
   "source": [
    "data = []"
   ]
  },
  {
   "cell_type": "code",
   "execution_count": null,
   "metadata": {},
   "outputs": [],
   "source": [
    "line_text = \"\"\n",
    "ticks = time.time()\n",
    "print (time.strftime(\"%Y-%m-%d %H:%M:%S\", time.localtime()))\n",
    "with open('youtube_partaa',encoding='utf-8') as fin:\n",
    "    flag = 0\n",
    "    count = 0\n",
    "    ddc = get_ddc()\n",
    "    dd = get_dd()\n",
    "    for line in fin:\n",
    "        count+=1\n",
    "#         if count == 100:\n",
    "#             break\n",
    "        \n",
    "        if (get_bool(dd)):\n",
    "#             print(count)\n",
    "            data.append(ddc)\n",
    "            ddc = get_ddc()\n",
    "            dd = get_dd()\n",
    "            continue\n",
    "        else:\n",
    "            if(line.find(\"@url:\")!=-1):\n",
    "#                 print(\"@url:\")\n",
    "                ddc[\"@url:\"] = line\n",
    "                dd[\"@url:\"] = 1\n",
    "                continue\n",
    "            if(line.find(\"@title:\")!=-1):\n",
    "#                 print(\"@title:\")\n",
    "                ddc[\"@title:\"] = line\n",
    "                dd[\"@title:\"] = 1\n",
    "                continue\n",
    "            if(line.find(\"@content:\")!=-1):\n",
    "#                 print(\"@content:\")\n",
    "                ddc[\"@content:\"] = line\n",
    "                dd[\"@content:\"] = 1\n",
    "                continue\n",
    "            if(line.find(\"@viewCount:\")!=-1):\n",
    "#                 print(\"@viewCount:\")\n",
    "                ddc[\"@viewCount:\"] = line\n",
    "                dd[\"@viewCount:\"] = 1\n",
    "                continue\n",
    "            if(line.find(\"@res:\")!=-1):\n",
    "#                 print(\"@res:\")\n",
    "                ddc[\"@res:\"] = line\n",
    "                dd[\"@res:\"] = 1\n",
    "                continue\n",
    "            if(line.find(\"@duration:\")!=-1):\n",
    "#                 print(\"@duration:\")\n",
    "                ddc[\"@duration:\"] = line\n",
    "                dd[\"@duration:\"] = 1\n",
    "                flag = 1\n",
    "                continue\n",
    "ticks = time.time()\n",
    "print (time.strftime(\"%Y-%m-%d %H:%M:%S\", time.localtime()))            "
   ]
  },
  {
   "cell_type": "code",
   "execution_count": null,
   "metadata": {
    "collapsed": true
   },
   "outputs": [],
   "source": [
    "def write_file(file_name,data):\n",
    "    with open(file_name,'a',encoding='utf-8') as f:\n",
    "        for line in data:\n",
    "            f.write(data[line])\n",
    "        f.write(\"@\\n\")"
   ]
  },
  {
   "cell_type": "code",
   "execution_count": null,
   "metadata": {},
   "outputs": [],
   "source": [
    "print(count)\n",
    "print(len(data))\n",
    "# file_name = \"DB_{}.txt\".format(i)\n",
    "# print(file_name)"
   ]
  },
  {
   "cell_type": "code",
   "execution_count": null,
   "metadata": {},
   "outputs": [],
   "source": [
    "name_number = 0\n",
    "file_name = \"DB_{}.txt\".format(name_number)\n",
    "sSkipList = SkipList()\n",
    "ticks = time.time()\n",
    "print (time.strftime(\"%Y-%m-%d %H:%M:%S\", time.localtime()))\n",
    "for i in range(len(data)):\n",
    "    if i%10000 == 0:\n",
    "        name_number +=1\n",
    "        file_name = \"DB_{}.txt\".format(name_number)\n",
    "        print(file_name)\n",
    "        ticks = time.time()\n",
    "        print (time.strftime(\"%Y-%m-%d %H:%M:%S\", time.localtime())) \n",
    "    write_file(file_name,data[i])\n",
    "    sSkipList.insert(data[i][\"@url:\"],file_name)\n",
    "ticks = time.time()\n",
    "print (time.strftime(\"%Y-%m-%d %H:%M:%S\", time.localtime()))"
   ]
  },
  {
   "cell_type": "code",
   "execution_count": null,
   "metadata": {
    "collapsed": true
   },
   "outputs": [],
   "source": [
    "node = sSkipList.find('@url:https://www.youtube.com/watch?v=aSoi2XVTPrU\\n')"
   ]
  },
  {
   "cell_type": "code",
   "execution_count": null,
   "metadata": {},
   "outputs": [],
   "source": [
    "type(node)"
   ]
  },
  {
   "cell_type": "code",
   "execution_count": null,
   "metadata": {},
   "outputs": [],
   "source": [
    "node.key"
   ]
  },
  {
   "cell_type": "code",
   "execution_count": null,
   "metadata": {},
   "outputs": [],
   "source": [
    "testSkipList = SkipList()\n",
    "for index,url in enumerate (url_list):\n",
    "    key = \"{}\".format(index)\n",
    "    elem = url\n",
    "    testSkipList.insert(key,elem)\n",
    "    print(\"{}-{}\".format(key,elem))"
   ]
  },
  {
   "cell_type": "code",
   "execution_count": null,
   "metadata": {},
   "outputs": [],
   "source": [
    "testSkipList.printList()"
   ]
  },
  {
   "cell_type": "code",
   "execution_count": null,
   "metadata": {
    "collapsed": true
   },
   "outputs": [],
   "source": [
    "import time"
   ]
  },
  {
   "cell_type": "code",
   "execution_count": null,
   "metadata": {},
   "outputs": [],
   "source": [
    "ticks = time.time()\n",
    "print (time.strftime(\"%Y-%m-%d %H:%M:%S\", time.localtime()))"
   ]
  },
  {
   "cell_type": "code",
   "execution_count": null,
   "metadata": {},
   "outputs": [],
   "source": [
    "cnt = 0\n",
    "for line in sSkipList:\n",
    "    if cnt == 20:\n",
    "        break\n",
    "    print(line)\n",
    "    cnt+=1"
   ]
  },
  {
   "cell_type": "code",
   "execution_count": null,
   "metadata": {
    "collapsed": true
   },
   "outputs": [],
   "source": []
  }
 ],
 "metadata": {
  "kernelspec": {
   "display_name": "Python 3",
   "language": "python",
   "name": "python3"
  },
  "language_info": {
   "codemirror_mode": {
    "name": "ipython",
    "version": 3
   },
   "file_extension": ".py",
   "mimetype": "text/x-python",
   "name": "python",
   "nbconvert_exporter": "python",
   "pygments_lexer": "ipython3",
   "version": "3.6.3"
  }
 },
 "nbformat": 4,
 "nbformat_minor": 2
}
