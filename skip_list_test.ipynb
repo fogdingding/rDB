{
 "cells": [
  {
   "cell_type": "code",
   "execution_count": 1,
   "metadata": {
    "collapsed": true
   },
   "outputs": [],
   "source": [
    "from random import randint, seed\n",
    "\n",
    "class SkipNode:\n",
    "    \"\"\"A node from a skip list\"\"\"    \n",
    "    def __init__(self, height = 0, elem = None , key=None):\n",
    "        self.key = key\n",
    "        self.elem = elem\n",
    "        self.next = [None]*height\n",
    "\n",
    "class SkipList:\n",
    "\n",
    "    def __init__(self):\n",
    "        self.head = SkipNode()\n",
    "        self.len = 0\n",
    "        self.maxHeight = 0\n",
    "\n",
    "    def __len__(self):\n",
    "        return self.len\n",
    "\n",
    "    def find(self, elem, update = None):\n",
    "        if update == None:\n",
    "            update = self.updateList(elem)\n",
    "        if len(update) > 0:\n",
    "            candidate = update[0].next[0]\n",
    "            if candidate != None and candidate.elem == elem:\n",
    "                return candidate\n",
    "        return None\n",
    "    \n",
    "    def contains(self, elem, update = None):\n",
    "        return self.find(elem, update) != None\n",
    "    \n",
    "    def randomHeight(self):\n",
    "        height = 1\n",
    "        while randint(1, 2)!= 1:\n",
    "            height += 1\n",
    "        return height\n",
    "\n",
    "    def updateList(self, elem):\n",
    "        update = [None]*self.maxHeight\n",
    "        x = self.head\n",
    "        for i in reversed(range(self.maxHeight)):\n",
    "            while x.next[i] != None and x.next[i].elem < elem:\n",
    "                x = x.next[i]\n",
    "            update[i] = x\n",
    "        return update\n",
    "        \n",
    "    def insert(self, elem, key):\n",
    "\n",
    "        node = SkipNode(self.randomHeight(), elem, key)\n",
    "\n",
    "        self.maxHeight = max(self.maxHeight, len(node.next))\n",
    "        while len(self.head.next) < len(node.next):\n",
    "            self.head.next.append(None)\n",
    "\n",
    "        update = self.updateList(elem)            \n",
    "        if self.find(elem, update) == None:\n",
    "            for i in range(len(node.next)):\n",
    "                node.next[i] = update[i].next[i]\n",
    "                update[i].next[i] = node\n",
    "            self.len += 1\n",
    "\n",
    "    def remove(self, elem):\n",
    "\n",
    "        update = self.updateList(elem)\n",
    "        x = self.find(elem, update)\n",
    "        if x != None:\n",
    "            for i in reversed(range(len(x.next))):\n",
    "                update[i].next[i] = x.next[i]\n",
    "                if self.head.next[i] == None:\n",
    "                    self.maxHeight -= 1\n",
    "            self.len -= 1            \n",
    "                \n",
    "    def printList(self):\n",
    "        for i in range(len(self.head.next)-1, -1, -1):\n",
    "            x = self.head\n",
    "            while x.next[i] != None:\n",
    "                print (x.next[i].elem + '-',end=\"\")\n",
    "                x = x.next[i]\n",
    "            print ('')\n"
   ]
  },
  {
   "cell_type": "code",
   "execution_count": 3,
   "metadata": {
    "collapsed": true
   },
   "outputs": [],
   "source": [
    "url_list = [\"https://www.youtube.com/watch?v=1R2vIsIPI38\",\"https://www.youtube.com/watch?v=1R2vIsIPI38\",\"https://www.youtube.com/watch?v=adex5YdEbOs\",\"https://www.youtube.com/watch?v=vlCumuwLkEM\",\"https://www.youtube.com/watch?v=d25EQaECNnU\",\"https://www.youtube.com/watch?v=Qh8DoWbumgs&t=4s\",\"https://www.youtube.com/watch?v=OE9mcx_iJrE\"]"
   ]
  },
  {
   "cell_type": "code",
   "execution_count": 4,
   "metadata": {
    "collapsed": true
   },
   "outputs": [],
   "source": [
    "sSkipList = SkipList()"
   ]
  },
  {
   "cell_type": "code",
   "execution_count": 5,
   "metadata": {},
   "outputs": [
    {
     "name": "stdout",
     "output_type": "stream",
     "text": [
      "0-https://www.youtube.com/watch?v=1R2vIsIPI38\n",
      "1-https://www.youtube.com/watch?v=1R2vIsIPI38\n",
      "2-https://www.youtube.com/watch?v=adex5YdEbOs\n",
      "3-https://www.youtube.com/watch?v=vlCumuwLkEM\n",
      "4-https://www.youtube.com/watch?v=d25EQaECNnU\n",
      "5-https://www.youtube.com/watch?v=Qh8DoWbumgs&t=4s\n",
      "6-https://www.youtube.com/watch?v=OE9mcx_iJrE\n"
     ]
    }
   ],
   "source": [
    "for index,url in enumerate (url_list):\n",
    "    key = \"{}\".format(index)\n",
    "    elem = url\n",
    "    sSkipList.insert(elem,key)\n",
    "    print(\"{}-{}\".format(key,elem))"
   ]
  },
  {
   "cell_type": "code",
   "execution_count": 6,
   "metadata": {},
   "outputs": [
    {
     "name": "stdout",
     "output_type": "stream",
     "text": [
      "https://www.youtube.com/watch?v=d25EQaECNnU-\n",
      "https://www.youtube.com/watch?v=d25EQaECNnU-\n",
      "https://www.youtube.com/watch?v=OE9mcx_iJrE-https://www.youtube.com/watch?v=Qh8DoWbumgs&t=4s-https://www.youtube.com/watch?v=d25EQaECNnU-\n",
      "https://www.youtube.com/watch?v=OE9mcx_iJrE-https://www.youtube.com/watch?v=Qh8DoWbumgs&t=4s-https://www.youtube.com/watch?v=adex5YdEbOs-https://www.youtube.com/watch?v=d25EQaECNnU-\n",
      "https://www.youtube.com/watch?v=1R2vIsIPI38-https://www.youtube.com/watch?v=OE9mcx_iJrE-https://www.youtube.com/watch?v=Qh8DoWbumgs&t=4s-https://www.youtube.com/watch?v=adex5YdEbOs-https://www.youtube.com/watch?v=d25EQaECNnU-https://www.youtube.com/watch?v=vlCumuwLkEM-\n"
     ]
    }
   ],
   "source": [
    "sSkipList.printList()"
   ]
  },
  {
   "cell_type": "code",
   "execution_count": 7,
   "metadata": {
    "collapsed": true
   },
   "outputs": [],
   "source": [
    "node = sSkipList.find('https://www.youtube.com/watch?v=OE9mcx_iJrE')"
   ]
  },
  {
   "cell_type": "code",
   "execution_count": 8,
   "metadata": {},
   "outputs": [
    {
     "data": {
      "text/plain": [
       "__main__.SkipNode"
      ]
     },
     "execution_count": 8,
     "metadata": {},
     "output_type": "execute_result"
    }
   ],
   "source": [
    "type(node)"
   ]
  },
  {
   "cell_type": "code",
   "execution_count": 9,
   "metadata": {},
   "outputs": [
    {
     "data": {
      "text/plain": [
       "'6'"
      ]
     },
     "execution_count": 9,
     "metadata": {},
     "output_type": "execute_result"
    }
   ],
   "source": [
    "node.key"
   ]
  },
  {
   "cell_type": "code",
   "execution_count": 53,
   "metadata": {},
   "outputs": [],
   "source": [
    "def get_dd():\n",
    "    dd = {\"@url:\" : 0, \"@title:\" : 0, \"@content:\" : 0, \"@viewCount:\":0, \"@res:\":0, \"@duration:\":0 }\n",
    "    return dd"
   ]
  },
  {
   "cell_type": "code",
   "execution_count": 54,
   "metadata": {},
   "outputs": [],
   "source": [
    "def get_ddc():\n",
    "    dd = {\"@url:\" : \"\", \"@title:\" : \"\", \"@content:\" : \"\", \"@viewCount:\":\"\", \"@res:\":\"\", \"@duration:\":\"\" ,\"@\":\"\"}\n",
    "    return dd"
   ]
  },
  {
   "cell_type": "code",
   "execution_count": 39,
   "metadata": {},
   "outputs": [],
   "source": [
    "def get_bool(dd):\n",
    "    for i in dd:\n",
    "        if (dd[i] == 0):\n",
    "            return False\n",
    "    return True"
   ]
  },
  {
   "cell_type": "code",
   "execution_count": 90,
   "metadata": {
    "collapsed": true
   },
   "outputs": [],
   "source": [
    "data = []"
   ]
  },
  {
   "cell_type": "code",
   "execution_count": 91,
   "metadata": {},
   "outputs": [],
   "source": [
    "line_text = \"\"\n",
    "with open('youtube_partaa',encoding='utf-8') as fin:\n",
    "    flag = 0\n",
    "    count = 0\n",
    "    ddc = get_ddc()\n",
    "    dd = get_dd()\n",
    "    for line in fin:\n",
    "        count+=1\n",
    "#         if count == 100:\n",
    "#             break\n",
    "        \n",
    "        if (get_bool(dd)):\n",
    "#             print(count)\n",
    "            data.append(ddc)\n",
    "            ddc = get_ddc()\n",
    "            dd = get_dd()\n",
    "            continue\n",
    "        else:\n",
    "            if(line.find(\"@url:\")!=-1):\n",
    "#                 print(\"@url:\")\n",
    "                ddc[\"@url:\"] = line\n",
    "                dd[\"@url:\"] = 1\n",
    "                continue\n",
    "            if(line.find(\"@title:\")!=-1):\n",
    "#                 print(\"@title:\")\n",
    "                ddc[\"@title:\"] = line\n",
    "                dd[\"@title:\"] = 1\n",
    "                continue\n",
    "            if(line.find(\"@content:\")!=-1):\n",
    "#                 print(\"@content:\")\n",
    "                ddc[\"@content:\"] = line\n",
    "                dd[\"@content:\"] = 1\n",
    "                continue\n",
    "            if(line.find(\"@viewCount:\")!=-1):\n",
    "#                 print(\"@viewCount:\")\n",
    "                ddc[\"@viewCount:\"] = line\n",
    "                dd[\"@viewCount:\"] = 1\n",
    "                continue\n",
    "            if(line.find(\"@res:\")!=-1):\n",
    "#                 print(\"@res:\")\n",
    "                ddc[\"@res:\"] = line\n",
    "                dd[\"@res:\"] = 1\n",
    "                continue\n",
    "            if(line.find(\"@duration:\")!=-1):\n",
    "#                 print(\"@duration:\")\n",
    "                ddc[\"@duration:\"] = line\n",
    "                dd[\"@duration:\"] = 1\n",
    "                flag = 1\n",
    "                continue\n",
    "            "
   ]
  },
  {
   "cell_type": "code",
   "execution_count": 113,
   "metadata": {},
   "outputs": [],
   "source": [
    "def write_file(file_name,data):\n",
    "    with open(file_name,'a',encoding='utf-8') as f:\n",
    "        for line in data:\n",
    "            f.write(data[line])\n",
    "        f.write(\"@\\n\")"
   ]
  },
  {
   "cell_type": "code",
   "execution_count": 127,
   "metadata": {},
   "outputs": [
    {
     "name": "stdout",
     "output_type": "stream",
     "text": [
      "6439529\n",
      "885980\n",
      "DB_10000.txt\n"
     ]
    }
   ],
   "source": [
    "print(count)\n",
    "print(len(data))\n",
    "file_name = \"DB_{}.txt\".format(i)\n",
    "print(file_name)"
   ]
  },
  {
   "cell_type": "code",
   "execution_count": 135,
   "metadata": {},
   "outputs": [
    {
     "name": "stdout",
     "output_type": "stream",
     "text": [
      "DB_1.txt\n",
      "DB_2.txt\n",
      "DB_3.txt\n",
      "DB_4.txt\n",
      "DB_5.txt\n",
      "DB_6.txt\n",
      "DB_7.txt\n",
      "DB_8.txt\n",
      "DB_9.txt\n",
      "DB_10.txt\n",
      "DB_11.txt\n",
      "DB_12.txt\n",
      "DB_13.txt\n",
      "DB_14.txt\n",
      "DB_15.txt\n",
      "DB_16.txt\n",
      "DB_17.txt\n",
      "DB_18.txt\n",
      "DB_19.txt\n",
      "DB_20.txt\n",
      "DB_21.txt\n",
      "DB_22.txt\n",
      "DB_23.txt\n",
      "DB_24.txt\n",
      "DB_25.txt\n",
      "DB_26.txt\n",
      "DB_27.txt\n",
      "DB_28.txt\n",
      "DB_29.txt\n",
      "DB_30.txt\n",
      "DB_31.txt\n",
      "DB_32.txt\n",
      "DB_33.txt\n",
      "DB_34.txt\n",
      "DB_35.txt\n",
      "DB_36.txt\n",
      "DB_37.txt\n",
      "DB_38.txt\n",
      "DB_39.txt\n",
      "DB_40.txt\n",
      "DB_41.txt\n",
      "DB_42.txt\n",
      "DB_43.txt\n",
      "DB_44.txt\n",
      "DB_45.txt\n",
      "DB_46.txt\n",
      "DB_47.txt\n",
      "DB_48.txt\n",
      "DB_49.txt\n",
      "DB_50.txt\n",
      "DB_51.txt\n",
      "DB_52.txt\n",
      "DB_53.txt\n",
      "DB_54.txt\n",
      "DB_55.txt\n",
      "DB_56.txt\n",
      "DB_57.txt\n",
      "DB_58.txt\n",
      "DB_59.txt\n",
      "DB_60.txt\n",
      "DB_61.txt\n",
      "DB_62.txt\n",
      "DB_63.txt\n",
      "DB_64.txt\n",
      "DB_65.txt\n",
      "DB_66.txt\n",
      "DB_67.txt\n",
      "DB_68.txt\n",
      "DB_69.txt\n",
      "DB_70.txt\n",
      "DB_71.txt\n",
      "DB_72.txt\n",
      "DB_73.txt\n",
      "DB_74.txt\n",
      "DB_75.txt\n",
      "DB_76.txt\n",
      "DB_77.txt\n",
      "DB_78.txt\n",
      "DB_79.txt\n",
      "DB_80.txt\n",
      "DB_81.txt\n",
      "DB_82.txt\n",
      "DB_83.txt\n",
      "DB_84.txt\n",
      "DB_85.txt\n",
      "DB_86.txt\n",
      "DB_87.txt\n",
      "DB_88.txt\n",
      "DB_89.txt\n",
      "DB_90.txt\n",
      "DB_91.txt\n",
      "DB_92.txt\n",
      "DB_93.txt\n",
      "DB_94.txt\n",
      "DB_95.txt\n",
      "DB_96.txt\n",
      "DB_97.txt\n",
      "DB_98.txt\n",
      "DB_99.txt\n",
      "DB_100.txt\n",
      "DB_101.txt\n",
      "DB_102.txt\n",
      "DB_103.txt\n",
      "DB_104.txt\n"
     ]
    },
    {
     "ename": "KeyboardInterrupt",
     "evalue": "",
     "output_type": "error",
     "traceback": [
      "\u001b[1;31m---------------------------------------------------------------------------\u001b[0m",
      "\u001b[1;31mKeyboardInterrupt\u001b[0m                         Traceback (most recent call last)",
      "\u001b[1;32m<ipython-input-135-94ed9a3823f1>\u001b[0m in \u001b[0;36m<module>\u001b[1;34m()\u001b[0m\n\u001b[0;32m      7\u001b[0m         \u001b[0mfile_name\u001b[0m \u001b[1;33m=\u001b[0m \u001b[1;34m\"DB_{}.txt\"\u001b[0m\u001b[1;33m.\u001b[0m\u001b[0mformat\u001b[0m\u001b[1;33m(\u001b[0m\u001b[0mname_number\u001b[0m\u001b[1;33m)\u001b[0m\u001b[1;33m\u001b[0m\u001b[0m\n\u001b[0;32m      8\u001b[0m         \u001b[0mprint\u001b[0m\u001b[1;33m(\u001b[0m\u001b[0mfile_name\u001b[0m\u001b[1;33m)\u001b[0m\u001b[1;33m\u001b[0m\u001b[0m\n\u001b[1;32m----> 9\u001b[1;33m     \u001b[0mwrite_file\u001b[0m\u001b[1;33m(\u001b[0m\u001b[0mfile_name\u001b[0m\u001b[1;33m,\u001b[0m\u001b[0mdata\u001b[0m\u001b[1;33m[\u001b[0m\u001b[0mi\u001b[0m\u001b[1;33m]\u001b[0m\u001b[1;33m)\u001b[0m\u001b[1;33m\u001b[0m\u001b[0m\n\u001b[0m\u001b[0;32m     10\u001b[0m     \u001b[0msSkipList\u001b[0m\u001b[1;33m.\u001b[0m\u001b[0minsert\u001b[0m\u001b[1;33m(\u001b[0m\u001b[0mdata\u001b[0m\u001b[1;33m[\u001b[0m\u001b[0mi\u001b[0m\u001b[1;33m]\u001b[0m\u001b[1;33m[\u001b[0m\u001b[1;34m\"@url:\"\u001b[0m\u001b[1;33m]\u001b[0m\u001b[1;33m,\u001b[0m\u001b[0mfile_name\u001b[0m\u001b[1;33m)\u001b[0m\u001b[1;33m\u001b[0m\u001b[0m\n",
      "\u001b[1;32m<ipython-input-113-de79ed82c9e2>\u001b[0m in \u001b[0;36mwrite_file\u001b[1;34m(file_name, data)\u001b[0m\n\u001b[0;32m      3\u001b[0m         \u001b[1;32mfor\u001b[0m \u001b[0mline\u001b[0m \u001b[1;32min\u001b[0m \u001b[0mdata\u001b[0m\u001b[1;33m:\u001b[0m\u001b[1;33m\u001b[0m\u001b[0m\n\u001b[0;32m      4\u001b[0m             \u001b[0mf\u001b[0m\u001b[1;33m.\u001b[0m\u001b[0mwrite\u001b[0m\u001b[1;33m(\u001b[0m\u001b[0mdata\u001b[0m\u001b[1;33m[\u001b[0m\u001b[0mline\u001b[0m\u001b[1;33m]\u001b[0m\u001b[1;33m)\u001b[0m\u001b[1;33m\u001b[0m\u001b[0m\n\u001b[1;32m----> 5\u001b[1;33m         \u001b[0mf\u001b[0m\u001b[1;33m.\u001b[0m\u001b[0mwrite\u001b[0m\u001b[1;33m(\u001b[0m\u001b[1;34m\"@\\n\"\u001b[0m\u001b[1;33m)\u001b[0m\u001b[1;33m\u001b[0m\u001b[0m\n\u001b[0m",
      "\u001b[1;31mKeyboardInterrupt\u001b[0m: "
     ]
    }
   ],
   "source": [
    "name_number = 0\n",
    "file_name = \"DB_{}.txt\".format(name_number)\n",
    "sSkipList = SkipList()\n",
    "for i in range(len(data)):\n",
    "    if i%5000 == 0:\n",
    "        name_number +=1\n",
    "        file_name = \"DB_{}.txt\".format(name_number)\n",
    "        print(file_name)\n",
    "    write_file(file_name,data[i])\n",
    "    sSkipList.insert(data[i][\"@url:\"],file_name)"
   ]
  },
  {
   "cell_type": "code",
   "execution_count": 145,
   "metadata": {},
   "outputs": [],
   "source": [
    "node = sSkipList.find('@url:https://www.youtube.com/watch?v=Y66p2iy7OuI\\n')"
   ]
  },
  {
   "cell_type": "code",
   "execution_count": 146,
   "metadata": {},
   "outputs": [
    {
     "data": {
      "text/plain": [
       "__main__.SkipNode"
      ]
     },
     "execution_count": 146,
     "metadata": {},
     "output_type": "execute_result"
    }
   ],
   "source": [
    "type(node)"
   ]
  },
  {
   "cell_type": "code",
   "execution_count": 147,
   "metadata": {},
   "outputs": [
    {
     "data": {
      "text/plain": [
       "'DB_44.txt'"
      ]
     },
     "execution_count": 147,
     "metadata": {},
     "output_type": "execute_result"
    }
   ],
   "source": [
    "node.key"
   ]
  },
  {
   "cell_type": "code",
   "execution_count": 206,
   "metadata": {},
   "outputs": [
    {
     "name": "stdout",
     "output_type": "stream",
     "text": [
      "0-https://www.youtube.com/watch?v=1R2vIsIPI38\n",
      "1-https://www.youtube.com/watch?v=1R2vIsIPI38\n",
      "2-https://www.youtube.com/watch?v=adex5YdEbOs\n",
      "3-https://www.youtube.com/watch?v=vlCumuwLkEM\n",
      "4-https://www.youtube.com/watch?v=d25EQaECNnU\n",
      "5-https://www.youtube.com/watch?v=Qh8DoWbumgs&t=4s\n",
      "6-https://www.youtube.com/watch?v=OE9mcx_iJrE\n"
     ]
    }
   ],
   "source": [
    "testSkipList = SkipList()\n",
    "for index,url in enumerate (url_list):\n",
    "    key = \"{}\".format(index)\n",
    "    elem = url\n",
    "    testSkipList.insert(key,elem)\n",
    "    print(\"{}-{}\".format(key,elem))"
   ]
  },
  {
   "cell_type": "code",
   "execution_count": 207,
   "metadata": {},
   "outputs": [
    {
     "name": "stdout",
     "output_type": "stream",
     "text": [
      "3-6-\n",
      "1-3-6-\n",
      "0-1-2-3-4-5-6-\n"
     ]
    }
   ],
   "source": [
    "testSkipList.printList()"
   ]
  },
  {
   "cell_type": "code",
   "execution_count": null,
   "metadata": {
    "collapsed": true
   },
   "outputs": [],
   "source": []
  }
 ],
 "metadata": {
  "kernelspec": {
   "display_name": "Python 3",
   "language": "python",
   "name": "python3"
  },
  "language_info": {
   "codemirror_mode": {
    "name": "ipython",
    "version": 3
   },
   "file_extension": ".py",
   "mimetype": "text/x-python",
   "name": "python",
   "nbconvert_exporter": "python",
   "pygments_lexer": "ipython3",
   "version": "3.6.3"
  }
 },
 "nbformat": 4,
 "nbformat_minor": 2
}
