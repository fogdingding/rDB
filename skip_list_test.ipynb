{
 "cells": [
  {
   "cell_type": "code",
   "execution_count": 34,
   "metadata": {
    "collapsed": true
   },
   "outputs": [],
   "source": [
    "import time"
   ]
  },
  {
   "cell_type": "code",
   "execution_count": 123,
   "metadata": {},
   "outputs": [],
   "source": [
    "from random import randint, seed\n",
    "\n",
    "class SkipNode:\n",
    "    \"\"\"A node from a skip list\"\"\"    \n",
    "    def __init__(self, height = 0, elem = None , key=None):\n",
    "        self.key = key\n",
    "        self.elem = elem\n",
    "        self.next = [None]*height\n",
    "\n",
    "class SkipList:\n",
    "\n",
    "    def __init__(self):\n",
    "        self.head = SkipNode()\n",
    "        self.len = 0\n",
    "        self.maxHeight = 0\n",
    "\n",
    "    def __len__(self):\n",
    "        return self.len\n",
    "\n",
    "    def find(self, elem, update = None):\n",
    "        if update == None:\n",
    "            update = self.updateList(elem)\n",
    "        if len(update) > 0:\n",
    "            candidate = update[0].next[0]\n",
    "            if candidate != None and candidate.elem == elem:\n",
    "                return candidate\n",
    "        return None\n",
    "    \n",
    "    def contains(self, elem, update = None):\n",
    "        return self.find(elem, update) != None\n",
    "    \n",
    "    def randomHeight(self):\n",
    "        height = 1\n",
    "        while randint(1, 2)!= 1:\n",
    "            height += 1\n",
    "        return height\n",
    "\n",
    "    def updateList(self, elem):\n",
    "        update = [None]*self.maxHeight\n",
    "        x = self.head\n",
    "        for i in reversed(range(self.maxHeight)):\n",
    "            while x.next[i] != None and x.next[i].elem < elem:\n",
    "                x = x.next[i]\n",
    "            update[i] = x\n",
    "        return update\n",
    "        \n",
    "    def insert(self, elem, key):\n",
    "\n",
    "        node = SkipNode(self.randomHeight(), elem, key)\n",
    "\n",
    "        self.maxHeight = max(self.maxHeight, len(node.next))\n",
    "        while len(self.head.next) < len(node.next):\n",
    "            self.head.next.append(None)\n",
    "\n",
    "        update = self.updateList(elem)            \n",
    "        if self.find(elem, update) == None:\n",
    "            for i in range(len(node.next)):\n",
    "                node.next[i] = update[i].next[i]\n",
    "                update[i].next[i] = node\n",
    "            self.len += 1\n",
    "\n",
    "    def remove(self, elem):\n",
    "\n",
    "        update = self.updateList(elem)\n",
    "        x = self.find(elem, update)\n",
    "        if x != None:\n",
    "            for i in reversed(range(len(x.next))):\n",
    "                update[i].next[i] = x.next[i]\n",
    "                if self.head.next[i] == None:\n",
    "                    self.maxHeight -= 1\n",
    "            self.len -= 1            \n",
    "                \n",
    "    def printList(self):\n",
    "        for i in range(len(self.head.next)-1, -1, -1):\n",
    "            x = self.head\n",
    "            while x.next[i] != None:\n",
    "                print (x.next[i].elem + '-',end=\"\")\n",
    "                x = x.next[i]\n",
    "            print ('')\n",
    "    \n",
    "    def get_ALL(self):\n",
    "        data = []\n",
    "        data2 = []\n",
    "        x = self.head\n",
    "        while x.next[0] != None:\n",
    "            data.append(x.next[0].elem)\n",
    "            data2.append(x.next[0].key)\n",
    "            x = x.next[0]\n",
    "        return data,data2\n",
    "\n",
    "    def find_full_one(self, elem, update = None):\n",
    "        if update == None:\n",
    "            pdate = self.updateList(elem)\n",
    "        if len(update) > 0:\n",
    "            candidate = update[0].next[0]\n",
    "            if candidate != None and (candidate.elem.find(elem) == -1):\n",
    "                return candidate \n",
    "        return None\n",
    "    \n",
    "    def updateList(self, elem):\n",
    "        update = [None]*self.maxHeight\n",
    "        x = self.head\n",
    "        for i in reversed(range(self.maxHeight)):\n",
    "            while x.next[i] != None and x.next[i].elem < elem:\n",
    "                x = x.next[i]\n",
    "            update[i] = x\n",
    "        return update\n",
    "    \n",
    "\n"
   ]
  },
  {
   "cell_type": "code",
   "execution_count": 124,
   "metadata": {
    "collapsed": true
   },
   "outputs": [],
   "source": [
    "url_list = [\"https://www.youtube.com/watch?v=1R2vIsIPI38\",\"https://www.youtube.com/watch?v=1R2vIsIPI38\",\"https://www.youtube.com/watch?v=adex5YdEbOs\",\"https://www.youtube.com/watch?v=vlCumuwLkEM\",\"https://www.youtube.com/watch?v=d25EQaECNnU\",\"https://www.youtube.com/watch?v=Qh8DoWbumgs&t=4s\",\"https://www.youtube.com/watch?v=OE9mcx_iJrE\"]"
   ]
  },
  {
   "cell_type": "code",
   "execution_count": 125,
   "metadata": {
    "collapsed": true
   },
   "outputs": [],
   "source": [
    "sSkipList = SkipList()"
   ]
  },
  {
   "cell_type": "code",
   "execution_count": 126,
   "metadata": {},
   "outputs": [
    {
     "name": "stdout",
     "output_type": "stream",
     "text": [
      "0-https://www.youtube.com/watch?v=1R2vIsIPI38\n",
      "1-https://www.youtube.com/watch?v=1R2vIsIPI38\n",
      "2-https://www.youtube.com/watch?v=adex5YdEbOs\n",
      "3-https://www.youtube.com/watch?v=vlCumuwLkEM\n",
      "4-https://www.youtube.com/watch?v=d25EQaECNnU\n",
      "5-https://www.youtube.com/watch?v=Qh8DoWbumgs&t=4s\n",
      "6-https://www.youtube.com/watch?v=OE9mcx_iJrE\n"
     ]
    }
   ],
   "source": [
    "for index,url in enumerate (url_list):\n",
    "    key = \"{}\".format(index)\n",
    "    elem = url\n",
    "    sSkipList.insert(elem,key,)\n",
    "    print(\"{}-{}\".format(key,elem))"
   ]
  },
  {
   "cell_type": "code",
   "execution_count": 127,
   "metadata": {},
   "outputs": [
    {
     "name": "stdout",
     "output_type": "stream",
     "text": [
      "https://www.youtube.com/watch?v=1R2vIsIPI38-https://www.youtube.com/watch?v=OE9mcx_iJrE-https://www.youtube.com/watch?v=Qh8DoWbumgs&t=4s-\n",
      "https://www.youtube.com/watch?v=1R2vIsIPI38-https://www.youtube.com/watch?v=OE9mcx_iJrE-https://www.youtube.com/watch?v=Qh8DoWbumgs&t=4s-https://www.youtube.com/watch?v=adex5YdEbOs-https://www.youtube.com/watch?v=d25EQaECNnU-https://www.youtube.com/watch?v=vlCumuwLkEM-\n"
     ]
    }
   ],
   "source": [
    "sSkipList.printList()"
   ]
  },
  {
   "cell_type": "code",
   "execution_count": 128,
   "metadata": {},
   "outputs": [
    {
     "data": {
      "text/plain": [
       "(['https://www.youtube.com/watch?v=1R2vIsIPI38',\n",
       "  'https://www.youtube.com/watch?v=OE9mcx_iJrE',\n",
       "  'https://www.youtube.com/watch?v=Qh8DoWbumgs&t=4s',\n",
       "  'https://www.youtube.com/watch?v=adex5YdEbOs',\n",
       "  'https://www.youtube.com/watch?v=d25EQaECNnU',\n",
       "  'https://www.youtube.com/watch?v=vlCumuwLkEM'],\n",
       " ['0', '6', '5', '2', '4', '3'])"
      ]
     },
     "execution_count": 128,
     "metadata": {},
     "output_type": "execute_result"
    }
   ],
   "source": [
    "sSkipList.get_ALL()"
   ]
  },
  {
   "cell_type": "code",
   "execution_count": 42,
   "metadata": {
    "collapsed": true
   },
   "outputs": [],
   "source": [
    "node = sSkipList.find('https://www.youtube.com/watch?v=1R2vIsIPI38')"
   ]
  },
  {
   "cell_type": "code",
   "execution_count": 43,
   "metadata": {},
   "outputs": [
    {
     "data": {
      "text/plain": [
       "__main__.SkipNode"
      ]
     },
     "execution_count": 43,
     "metadata": {},
     "output_type": "execute_result"
    }
   ],
   "source": [
    "type(node)"
   ]
  },
  {
   "cell_type": "code",
   "execution_count": 44,
   "metadata": {},
   "outputs": [
    {
     "name": "stdout",
     "output_type": "stream",
     "text": [
      "0\n",
      "https://www.youtube.com/watch?v=1R2vIsIPI38\n"
     ]
    }
   ],
   "source": [
    "print(node.key)\n",
    "print(node.elem)"
   ]
  },
  {
   "cell_type": "code",
   "execution_count": 45,
   "metadata": {},
   "outputs": [
    {
     "name": "stdout",
     "output_type": "stream",
     "text": [
      "<class 'str'>\n"
     ]
    }
   ],
   "source": [
    "print(type(node.elem))"
   ]
  },
  {
   "cell_type": "code",
   "execution_count": 46,
   "metadata": {},
   "outputs": [
    {
     "ename": "TypeError",
     "evalue": "object of type 'NoneType' has no len()",
     "output_type": "error",
     "traceback": [
      "\u001b[1;31m------------------------------------------------------------------------\u001b[0m",
      "\u001b[1;31mTypeError\u001b[0m                              Traceback (most recent call last)",
      "\u001b[1;32m<ipython-input-46-9d67444ce57a>\u001b[0m in \u001b[0;36m<module>\u001b[1;34m()\u001b[0m\n\u001b[1;32m----> 1\u001b[1;33m \u001b[0mnode_1\u001b[0m \u001b[1;33m=\u001b[0m \u001b[0msSkipList\u001b[0m\u001b[1;33m.\u001b[0m\u001b[0mfind_full_one\u001b[0m\u001b[1;33m(\u001b[0m\u001b[1;34m\"https://www.youtube.com/watch?v=1R2vIsIPI38\"\u001b[0m\u001b[1;33m)\u001b[0m\u001b[1;33m\u001b[0m\u001b[0m\n\u001b[0m",
      "\u001b[1;32m<ipython-input-37-8b01d0f175be>\u001b[0m in \u001b[0;36mfind_full_one\u001b[1;34m(self, elem, update)\u001b[0m\n\u001b[0;32m     82\u001b[0m         \u001b[1;32mif\u001b[0m \u001b[0mupdate\u001b[0m \u001b[1;33m==\u001b[0m \u001b[1;32mNone\u001b[0m\u001b[1;33m:\u001b[0m\u001b[1;33m\u001b[0m\u001b[0m\n\u001b[0;32m     83\u001b[0m             \u001b[0mpdate\u001b[0m \u001b[1;33m=\u001b[0m \u001b[0mself\u001b[0m\u001b[1;33m.\u001b[0m\u001b[0mupdateList\u001b[0m\u001b[1;33m(\u001b[0m\u001b[0melem\u001b[0m\u001b[1;33m)\u001b[0m\u001b[1;33m\u001b[0m\u001b[0m\n\u001b[1;32m---> 84\u001b[1;33m         \u001b[1;32mif\u001b[0m \u001b[0mlen\u001b[0m\u001b[1;33m(\u001b[0m\u001b[0mupdate\u001b[0m\u001b[1;33m)\u001b[0m \u001b[1;33m>\u001b[0m \u001b[1;36m0\u001b[0m\u001b[1;33m:\u001b[0m\u001b[1;33m\u001b[0m\u001b[0m\n\u001b[0m\u001b[0;32m     85\u001b[0m             \u001b[0mcandidate\u001b[0m \u001b[1;33m=\u001b[0m \u001b[0mupdate\u001b[0m\u001b[1;33m[\u001b[0m\u001b[1;36m0\u001b[0m\u001b[1;33m]\u001b[0m\u001b[1;33m.\u001b[0m\u001b[0mnext\u001b[0m\u001b[1;33m[\u001b[0m\u001b[1;36m0\u001b[0m\u001b[1;33m]\u001b[0m\u001b[1;33m\u001b[0m\u001b[0m\n\u001b[0;32m     86\u001b[0m             \u001b[1;32mif\u001b[0m \u001b[0mcandidate\u001b[0m \u001b[1;33m!=\u001b[0m \u001b[1;32mNone\u001b[0m \u001b[1;32mand\u001b[0m \u001b[1;33m(\u001b[0m\u001b[0mcandidate\u001b[0m\u001b[1;33m.\u001b[0m\u001b[0melem\u001b[0m\u001b[1;33m.\u001b[0m\u001b[0mfind\u001b[0m\u001b[1;33m(\u001b[0m\u001b[0melem\u001b[0m\u001b[1;33m)\u001b[0m \u001b[1;33m==\u001b[0m \u001b[1;33m-\u001b[0m\u001b[1;36m1\u001b[0m\u001b[1;33m)\u001b[0m\u001b[1;33m:\u001b[0m\u001b[1;33m\u001b[0m\u001b[0m\n",
      "\u001b[1;31mTypeError\u001b[0m: object of type 'NoneType' has no len()"
     ]
    }
   ],
   "source": [
    "node_1 = sSkipList.find_full_one(\"https://www.youtube.com/watch?v=1R2vIsIPI38\")"
   ]
  },
  {
   "cell_type": "code",
   "execution_count": 47,
   "metadata": {},
   "outputs": [
    {
     "data": {
      "text/plain": [
       "-1"
      ]
     },
     "execution_count": 47,
     "metadata": {},
     "output_type": "execute_result"
    }
   ],
   "source": [
    "\"1230\".find(\"4\")"
   ]
  },
  {
   "cell_type": "code",
   "execution_count": 100,
   "metadata": {},
   "outputs": [
    {
     "data": {
      "text/plain": [
       "NoneType"
      ]
     },
     "execution_count": 100,
     "metadata": {},
     "output_type": "execute_result"
    }
   ],
   "source": [
    "type(node_1)"
   ]
  },
  {
   "cell_type": "code",
   "execution_count": 88,
   "metadata": {},
   "outputs": [
    {
     "ename": "AttributeError",
     "evalue": "'NoneType' object has no attribute 'key'",
     "output_type": "error",
     "traceback": [
      "\u001b[1;31m----------------------------------------------------\u001b[0m",
      "\u001b[1;31mAttributeError\u001b[0m     Traceback (most recent call last)",
      "\u001b[1;32m<ipython-input-88-da6010656b3b>\u001b[0m in \u001b[0;36m<module>\u001b[1;34m()\u001b[0m\n\u001b[1;32m----> 1\u001b[1;33m \u001b[0mprint\u001b[0m\u001b[1;33m(\u001b[0m\u001b[0mnode_1\u001b[0m\u001b[1;33m.\u001b[0m\u001b[0mkey\u001b[0m\u001b[1;33m)\u001b[0m\u001b[1;33m\u001b[0m\u001b[0m\n\u001b[0m\u001b[0;32m      2\u001b[0m \u001b[0mprint\u001b[0m\u001b[1;33m(\u001b[0m\u001b[0mnode_1\u001b[0m\u001b[1;33m.\u001b[0m\u001b[0melem\u001b[0m\u001b[1;33m)\u001b[0m\u001b[1;33m\u001b[0m\u001b[0m\n",
      "\u001b[1;31mAttributeError\u001b[0m: 'NoneType' object has no attribute 'key'"
     ]
    }
   ],
   "source": [
    "print(node_1.key)\n",
    "print(node_1.elem)"
   ]
  },
  {
   "cell_type": "code",
   "execution_count": 17,
   "metadata": {
    "collapsed": true
   },
   "outputs": [],
   "source": [
    "def get_dd():\n",
    "    dd = {\"@url:\" : 0, \"@title:\" : 0, \"@content:\" : 0, \"@viewCount:\":0, \"@res:\":0, \"@duration:\":0 }\n",
    "    return dd"
   ]
  },
  {
   "cell_type": "code",
   "execution_count": 18,
   "metadata": {
    "collapsed": true
   },
   "outputs": [],
   "source": [
    "def get_ddc():\n",
    "    dd = {\"@url:\" : \"\", \"@title:\" : \"\", \"@content:\" : \"\", \"@viewCount:\":\"\", \"@res:\":\"\", \"@duration:\":\"\" ,\"@\":\"\"}\n",
    "    return dd"
   ]
  },
  {
   "cell_type": "code",
   "execution_count": 19,
   "metadata": {
    "collapsed": true
   },
   "outputs": [],
   "source": [
    "def get_bool(dd):\n",
    "    for i in dd:\n",
    "        if (dd[i] == 0):\n",
    "            return False\n",
    "    return True"
   ]
  },
  {
   "cell_type": "code",
   "execution_count": 43,
   "metadata": {
    "collapsed": true
   },
   "outputs": [],
   "source": [
    "data = []"
   ]
  },
  {
   "cell_type": "code",
   "execution_count": 44,
   "metadata": {},
   "outputs": [
    {
     "name": "stdout",
     "output_type": "stream",
     "text": [
      "2019-05-06 02:06:08\n",
      "2019-05-06 02:06:18\n"
     ]
    }
   ],
   "source": [
    "line_text = \"\"\n",
    "ticks = time.time()\n",
    "print (time.strftime(\"%Y-%m-%d %H:%M:%S\", time.localtime()))\n",
    "with open('youtube_partaa',encoding='utf-8') as fin:\n",
    "    flag = 0\n",
    "    count = 0\n",
    "    ddc = get_ddc()\n",
    "    dd = get_dd()\n",
    "    for line in fin:\n",
    "        count+=1\n",
    "#         if count == 100:\n",
    "#             break\n",
    "        \n",
    "        if (get_bool(dd)):\n",
    "#             print(count)\n",
    "            data.append(ddc)\n",
    "            ddc = get_ddc()\n",
    "            dd = get_dd()\n",
    "            continue\n",
    "        else:\n",
    "            if(line.find(\"@url:\")!=-1):\n",
    "#                 print(\"@url:\")\n",
    "                ddc[\"@url:\"] = line\n",
    "                dd[\"@url:\"] = 1\n",
    "                continue\n",
    "            if(line.find(\"@title:\")!=-1):\n",
    "#                 print(\"@title:\")\n",
    "                ddc[\"@title:\"] = line\n",
    "                dd[\"@title:\"] = 1\n",
    "                continue\n",
    "            if(line.find(\"@content:\")!=-1):\n",
    "#                 print(\"@content:\")\n",
    "                ddc[\"@content:\"] = line\n",
    "                dd[\"@content:\"] = 1\n",
    "                continue\n",
    "            if(line.find(\"@viewCount:\")!=-1):\n",
    "#                 print(\"@viewCount:\")\n",
    "                ddc[\"@viewCount:\"] = line\n",
    "                dd[\"@viewCount:\"] = 1\n",
    "                continue\n",
    "            if(line.find(\"@res:\")!=-1):\n",
    "#                 print(\"@res:\")\n",
    "                ddc[\"@res:\"] = line\n",
    "                dd[\"@res:\"] = 1\n",
    "                continue\n",
    "            if(line.find(\"@duration:\")!=-1):\n",
    "#                 print(\"@duration:\")\n",
    "                ddc[\"@duration:\"] = line\n",
    "                dd[\"@duration:\"] = 1\n",
    "                flag = 1\n",
    "                continue\n",
    "ticks = time.time()\n",
    "print (time.strftime(\"%Y-%m-%d %H:%M:%S\", time.localtime()))            "
   ]
  },
  {
   "cell_type": "code",
   "execution_count": 45,
   "metadata": {
    "collapsed": true
   },
   "outputs": [],
   "source": [
    "def write_file(file_name,data):\n",
    "    with open(file_name,'a',encoding='utf-8') as f:\n",
    "        for line in data:\n",
    "            f.write(data[line])\n",
    "        f.write(\"@\\n\")"
   ]
  },
  {
   "cell_type": "code",
   "execution_count": 48,
   "metadata": {},
   "outputs": [
    {
     "name": "stdout",
     "output_type": "stream",
     "text": [
      "6439529\n",
      "885980\n"
     ]
    }
   ],
   "source": [
    "print(count)\n",
    "print(len(data))\n",
    "# file_name = \"DB_{}.txt\".format(i)\n",
    "# print(file_name)"
   ]
  },
  {
   "cell_type": "code",
   "execution_count": 47,
   "metadata": {},
   "outputs": [
    {
     "name": "stdout",
     "output_type": "stream",
     "text": [
      "2019-05-06 02:07:29\n",
      "DB_1.txt\n",
      "2019-05-06 02:07:29\n",
      "DB_2.txt\n",
      "2019-05-06 02:08:55\n",
      "DB_3.txt\n",
      "2019-05-06 02:10:23\n",
      "DB_4.txt\n",
      "2019-05-06 02:11:51\n",
      "DB_5.txt\n",
      "2019-05-06 02:12:19\n",
      "DB_6.txt\n",
      "2019-05-06 02:13:44\n",
      "DB_7.txt\n",
      "2019-05-06 02:15:12\n",
      "DB_8.txt\n",
      "2019-05-06 02:16:55\n",
      "DB_9.txt\n",
      "2019-05-06 02:17:23\n",
      "DB_10.txt\n",
      "2019-05-06 02:18:49\n",
      "DB_11.txt\n",
      "2019-05-06 02:20:16\n",
      "DB_12.txt\n",
      "2019-05-06 02:21:56\n",
      "DB_13.txt\n",
      "2019-05-06 02:22:24\n",
      "DB_14.txt\n",
      "2019-05-06 02:24:06\n",
      "DB_15.txt\n",
      "2019-05-06 02:25:47\n",
      "DB_16.txt\n",
      "2019-05-06 02:27:12\n",
      "DB_17.txt\n",
      "2019-05-06 02:28:39\n",
      "DB_18.txt\n",
      "2019-05-06 02:30:07\n",
      "DB_19.txt\n",
      "2019-05-06 02:30:35\n",
      "DB_20.txt\n",
      "2019-05-06 02:32:03\n",
      "DB_21.txt\n",
      "2019-05-06 02:33:30\n",
      "DB_22.txt\n",
      "2019-05-06 02:35:43\n",
      "DB_23.txt\n",
      "2019-05-06 02:37:09\n",
      "DB_24.txt\n",
      "2019-05-06 02:39:49\n",
      "DB_25.txt\n",
      "2019-05-06 02:41:18\n",
      "DB_26.txt\n",
      "2019-05-06 02:41:47\n",
      "DB_27.txt\n",
      "2019-05-06 02:44:05\n",
      "DB_28.txt\n",
      "2019-05-06 02:44:33\n",
      "DB_29.txt\n",
      "2019-05-06 02:46:00\n",
      "DB_30.txt\n",
      "2019-05-06 02:46:27\n",
      "DB_31.txt\n",
      "2019-05-06 02:48:00\n",
      "DB_32.txt\n",
      "2019-05-06 02:49:43\n",
      "DB_33.txt\n",
      "2019-05-06 02:51:11\n",
      "DB_34.txt\n",
      "2019-05-06 02:52:40\n",
      "DB_35.txt\n",
      "2019-05-06 02:54:08\n",
      "DB_36.txt\n",
      "2019-05-06 02:55:51\n",
      "DB_37.txt\n",
      "2019-05-06 02:57:31\n",
      "DB_38.txt\n",
      "2019-05-06 02:58:59\n",
      "DB_39.txt\n",
      "2019-05-06 03:00:25\n",
      "DB_40.txt\n",
      "2019-05-06 03:00:52\n",
      "DB_41.txt\n",
      "2019-05-06 03:02:20\n",
      "DB_42.txt\n",
      "2019-05-06 03:04:02\n",
      "DB_43.txt\n",
      "2019-05-06 03:05:28\n",
      "DB_44.txt\n",
      "2019-05-06 03:06:10\n",
      "DB_45.txt\n",
      "2019-05-06 03:07:37\n",
      "DB_46.txt\n",
      "2019-05-06 03:08:06\n",
      "DB_47.txt\n",
      "2019-05-06 03:09:32\n",
      "DB_48.txt\n",
      "2019-05-06 03:10:59\n",
      "DB_49.txt\n",
      "2019-05-06 03:12:41\n",
      "DB_50.txt\n",
      "2019-05-06 03:14:08\n",
      "DB_51.txt\n",
      "2019-05-06 03:16:23\n",
      "DB_52.txt\n",
      "2019-05-06 03:17:51\n",
      "DB_53.txt\n",
      "2019-05-06 03:19:31\n",
      "DB_54.txt\n",
      "2019-05-06 03:20:57\n",
      "DB_55.txt\n",
      "2019-05-06 03:21:24\n",
      "DB_56.txt\n",
      "2019-05-06 03:22:50\n",
      "DB_57.txt\n",
      "2019-05-06 03:25:05\n",
      "DB_58.txt\n",
      "2019-05-06 03:26:32\n",
      "DB_59.txt\n",
      "2019-05-06 03:27:58\n",
      "DB_60.txt\n",
      "2019-05-06 03:28:42\n",
      "DB_61.txt\n",
      "2019-05-06 03:29:10\n",
      "DB_62.txt\n",
      "2019-05-06 03:30:37\n",
      "DB_63.txt\n",
      "2019-05-06 03:32:04\n",
      "DB_64.txt\n",
      "2019-05-06 03:33:44\n",
      "DB_65.txt\n",
      "2019-05-06 03:35:25\n",
      "DB_66.txt\n",
      "2019-05-06 03:36:53\n",
      "DB_67.txt\n",
      "2019-05-06 03:38:20\n",
      "DB_68.txt\n",
      "2019-05-06 03:40:07\n",
      "DB_69.txt\n",
      "2019-05-06 03:41:41\n",
      "DB_70.txt\n",
      "2019-05-06 03:43:13\n",
      "DB_71.txt\n",
      "2019-05-06 03:44:40\n",
      "DB_72.txt\n",
      "2019-05-06 03:46:08\n",
      "DB_73.txt\n",
      "2019-05-06 03:47:36\n",
      "DB_74.txt\n",
      "2019-05-06 03:49:18\n",
      "DB_75.txt\n",
      "2019-05-06 03:50:44\n",
      "DB_76.txt\n",
      "2019-05-06 03:52:11\n",
      "DB_77.txt\n",
      "2019-05-06 03:53:40\n",
      "DB_78.txt\n",
      "2019-05-06 03:55:07\n",
      "DB_79.txt\n",
      "2019-05-06 03:56:35\n",
      "DB_80.txt\n",
      "2019-05-06 03:58:05\n",
      "DB_81.txt\n",
      "2019-05-06 03:59:33\n",
      "DB_82.txt\n",
      "2019-05-06 04:00:01\n",
      "DB_83.txt\n",
      "2019-05-06 04:01:29\n",
      "DB_84.txt\n",
      "2019-05-06 04:03:42\n",
      "DB_85.txt\n",
      "2019-05-06 04:05:25\n",
      "DB_86.txt\n",
      "2019-05-06 04:05:53\n",
      "DB_87.txt\n",
      "2019-05-06 04:06:21\n",
      "DB_88.txt\n",
      "2019-05-06 04:07:49\n",
      "DB_89.txt\n",
      "2019-05-06 04:09:17\n",
      "2019-05-06 04:10:03\n"
     ]
    }
   ],
   "source": [
    "name_number = 0\n",
    "file_name = \"DB_{}.txt\".format(name_number)\n",
    "sSkipList = SkipList()\n",
    "ticks = time.time()\n",
    "print (time.strftime(\"%Y-%m-%d %H:%M:%S\", time.localtime()))\n",
    "for i in range(len(data)):\n",
    "    if i%10000 == 0:\n",
    "        name_number +=1\n",
    "        file_name = \"DB_{}.txt\".format(name_number)\n",
    "        print(file_name)\n",
    "        ticks = time.time()\n",
    "        print (time.strftime(\"%Y-%m-%d %H:%M:%S\", time.localtime())) \n",
    "    write_file(file_name,data[i])\n",
    "    sSkipList.insert(data[i][\"@url:\"],file_name)\n",
    "ticks = time.time()\n",
    "print (time.strftime(\"%Y-%m-%d %H:%M:%S\", time.localtime()))"
   ]
  },
  {
   "cell_type": "code",
   "execution_count": 28,
   "metadata": {
    "collapsed": true
   },
   "outputs": [],
   "source": [
    "node = sSkipList.find('@url:https://www.youtube.com/watch?v=aSoi2XVTPrU\\n')"
   ]
  },
  {
   "cell_type": "code",
   "execution_count": 29,
   "metadata": {},
   "outputs": [
    {
     "data": {
      "text/plain": [
       "__main__.SkipNode"
      ]
     },
     "execution_count": 29,
     "metadata": {},
     "output_type": "execute_result"
    }
   ],
   "source": [
    "type(node)"
   ]
  },
  {
   "cell_type": "code",
   "execution_count": 30,
   "metadata": {},
   "outputs": [
    {
     "data": {
      "text/plain": [
       "'DB_177.txt'"
      ]
     },
     "execution_count": 30,
     "metadata": {},
     "output_type": "execute_result"
    }
   ],
   "source": [
    "node.key"
   ]
  },
  {
   "cell_type": "code",
   "execution_count": 206,
   "metadata": {},
   "outputs": [
    {
     "name": "stdout",
     "output_type": "stream",
     "text": [
      "0-https://www.youtube.com/watch?v=1R2vIsIPI38\n",
      "1-https://www.youtube.com/watch?v=1R2vIsIPI38\n",
      "2-https://www.youtube.com/watch?v=adex5YdEbOs\n",
      "3-https://www.youtube.com/watch?v=vlCumuwLkEM\n",
      "4-https://www.youtube.com/watch?v=d25EQaECNnU\n",
      "5-https://www.youtube.com/watch?v=Qh8DoWbumgs&t=4s\n",
      "6-https://www.youtube.com/watch?v=OE9mcx_iJrE\n"
     ]
    }
   ],
   "source": [
    "testSkipList = SkipList()\n",
    "for index,url in enumerate (url_list):\n",
    "    key = \"{}\".format(index)\n",
    "    elem = url\n",
    "    testSkipList.insert(key,elem)\n",
    "    print(\"{}-{}\".format(key,elem))"
   ]
  },
  {
   "cell_type": "code",
   "execution_count": 207,
   "metadata": {},
   "outputs": [
    {
     "name": "stdout",
     "output_type": "stream",
     "text": [
      "3-6-\n",
      "1-3-6-\n",
      "0-1-2-3-4-5-6-\n"
     ]
    }
   ],
   "source": [
    "testSkipList.printList()"
   ]
  },
  {
   "cell_type": "code",
   "execution_count": 31,
   "metadata": {
    "collapsed": true
   },
   "outputs": [],
   "source": [
    "import time"
   ]
  },
  {
   "cell_type": "code",
   "execution_count": 36,
   "metadata": {},
   "outputs": [
    {
     "name": "stdout",
     "output_type": "stream",
     "text": [
      "2019-05-06 01:56:25\n"
     ]
    }
   ],
   "source": [
    "ticks = time.time()\n",
    "print (time.strftime(\"%Y-%m-%d %H:%M:%S\", time.localtime()))"
   ]
  },
  {
   "cell_type": "code",
   "execution_count": 50,
   "metadata": {},
   "outputs": [
    {
     "ename": "TypeError",
     "evalue": "'SkipList' object is not iterable",
     "output_type": "error",
     "traceback": [
      "\u001b[1;31m----------------------------------------------------------\u001b[0m",
      "\u001b[1;31mTypeError\u001b[0m                Traceback (most recent call last)",
      "\u001b[1;32m<ipython-input-50-a1acf7bb7be2>\u001b[0m in \u001b[0;36m<module>\u001b[1;34m()\u001b[0m\n\u001b[0;32m      1\u001b[0m \u001b[0mcnt\u001b[0m \u001b[1;33m=\u001b[0m \u001b[1;36m0\u001b[0m\u001b[1;33m\u001b[0m\u001b[0m\n\u001b[1;32m----> 2\u001b[1;33m \u001b[1;32mfor\u001b[0m \u001b[0mline\u001b[0m \u001b[1;32min\u001b[0m \u001b[0msSkipList\u001b[0m\u001b[1;33m:\u001b[0m\u001b[1;33m\u001b[0m\u001b[0m\n\u001b[0m\u001b[0;32m      3\u001b[0m     \u001b[1;32mif\u001b[0m \u001b[0mcnt\u001b[0m \u001b[1;33m==\u001b[0m \u001b[1;36m20\u001b[0m\u001b[1;33m:\u001b[0m\u001b[1;33m\u001b[0m\u001b[0m\n\u001b[0;32m      4\u001b[0m         \u001b[1;32mbreak\u001b[0m\u001b[1;33m\u001b[0m\u001b[0m\n\u001b[0;32m      5\u001b[0m     \u001b[0mprint\u001b[0m\u001b[1;33m(\u001b[0m\u001b[0mline\u001b[0m\u001b[1;33m)\u001b[0m\u001b[1;33m\u001b[0m\u001b[0m\n",
      "\u001b[1;31mTypeError\u001b[0m: 'SkipList' object is not iterable"
     ]
    }
   ],
   "source": [
    "cnt = 0\n",
    "for line in sSkipList:\n",
    "    if cnt == 20:\n",
    "        break\n",
    "    print(line)\n",
    "    cnt+=1"
   ]
  },
  {
   "cell_type": "code",
   "execution_count": null,
   "metadata": {
    "collapsed": true
   },
   "outputs": [],
   "source": []
  }
 ],
 "metadata": {
  "kernelspec": {
   "display_name": "Python 3",
   "language": "python",
   "name": "python3"
  },
  "language_info": {
   "codemirror_mode": {
    "name": "ipython",
    "version": 3
   },
   "file_extension": ".py",
   "mimetype": "text/x-python",
   "name": "python",
   "nbconvert_exporter": "python",
   "pygments_lexer": "ipython3",
   "version": "3.6.3"
  }
 },
 "nbformat": 4,
 "nbformat_minor": 2
}
