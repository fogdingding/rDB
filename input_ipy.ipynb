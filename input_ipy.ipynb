{
 "cells": [
  {
   "cell_type": "code",
   "execution_count": null,
   "metadata": {
    "collapsed": true
   },
   "outputs": [],
   "source": [
    "# 完成\n",
    "def get_import():\n",
    "    str_import = \"\"\"import time\n",
    "import create_python\"\"\"\n",
    "    return str_import"
   ]
  },
  {
   "cell_type": "code",
   "execution_count": null,
   "metadata": {},
   "outputs": [],
   "source": [
    "def get_dd(data):\n",
    "    \n",
    "    str_tmp1 = \"\"\"def get_dd():\n",
    "\\tdd = {\"\"\"\n",
    "    for line in data:\n",
    "        str_tmp1 += (\"\"\"\\\"@{}:\\\" : 0,\"\"\".format(line))\n",
    "    str_tmp1+= \"\"\"\\\"@end\\\" : 1\"\"\"\n",
    "    str_tmp2 = \"\"\" }\n",
    "\\treturn dd\"\"\"\n",
    "    str_tmp1+=str_tmp2\n",
    "    return str_tmp1"
   ]
  },
  {
   "cell_type": "code",
   "execution_count": null,
   "metadata": {
    "collapsed": true
   },
   "outputs": [],
   "source": [
    "def get_ddc(data):\n",
    "    str_tmp1 = \"\"\"def get_ddc():\n",
    "\\tdd = {\"\"\"\n",
    "    for line in data:\n",
    "        str_tmp1 += (\"\"\"\\\"@{}:\\\" : \\\"\\\",\"\"\".format(line))\n",
    "    str_tmp1+= \"\"\"\\\"@end\\\" : \\\"\\\"\"\"\"\n",
    "    str_tmp2 = \"\"\" }\n",
    "\\treturn dd\"\"\"\n",
    "    str_tmp1+=str_tmp2\n",
    "    return str_tmp1"
   ]
  },
  {
   "cell_type": "code",
   "execution_count": null,
   "metadata": {
    "collapsed": true
   },
   "outputs": [],
   "source": [
    "def get_bool():\n",
    "    str_tmp = \"\"\"def get_bool(dd):\n",
    "\\tfor i in dd:\n",
    "\\t\\tif (dd[i] == 0):\n",
    "\\t\\t\\treturn False\n",
    "\\treturn True\"\"\"\n",
    "    return str_tmp"
   ]
  },
  {
   "cell_type": "code",
   "execution_count": null,
   "metadata": {
    "collapsed": true
   },
   "outputs": [],
   "source": [
    "def write_file():\n",
    "    str_tmp = \"\"\"def write_file(file_name,data):\n",
    "\\twith open(file_name,'a',encoding='utf-8') as f:\n",
    "\\t\\tfor line in data:\n",
    "\\t\\t\\tf.write(data[line])\n",
    "\\t\\tf.write(\"@\\\\n\")\"\"\"\n",
    "    return str_tmp"
   ]
  },
  {
   "cell_type": "code",
   "execution_count": null,
   "metadata": {},
   "outputs": [],
   "source": [
    "def input_main(data):\n",
    "    str_tmp1 = \"\"\"def input_main(file_path):\n",
    "\\tdata = []\n",
    "\\tline_text = \"\"\n",
    "\\tticks = time.time()\n",
    "\\tprint(\"讀取檔案的時間\")\n",
    "\\tprint (time.strftime(\"%Y-%m-%d %H:%M:%S\", time.localtime()))\n",
    "\\twith open(file_path,encoding='utf-8') as fin:\n",
    "\\t\\tflag = 0\n",
    "\\t\\tcount = 0\n",
    "\\t\\tddc = get_ddc()\n",
    "\\t\\tdd = get_dd()\n",
    "\\t\\tfor line in fin:\n",
    "\\t\\t\\tcount+=1\n",
    "\\t\\t\\tif (get_bool(dd)):\n",
    "\\t\\t\\t\\tdata.append(ddc)\n",
    "\\t\\t\\t\\tddc = get_ddc()\n",
    "\\t\\t\\t\\tdd = get_dd()\n",
    "\\t\\t\\t\\tcontinue\n",
    "\\t\\t\\telse:\"\"\"\n",
    "    count = len(data)\n",
    "    cnt = 1\n",
    "    for line in data:\n",
    "        if count!=cnt:\n",
    "            str_tmp1+=\"\"\"\n",
    "\\t\\t\\t\\tif(line.find(\"@{}:\")!=-1):\n",
    "\\t\\t\\t\\t\\tddc[\"@{}:\"] = line\n",
    "\\t\\t\\t\\t\\tdd[\"@{}:\"] = 1\n",
    "\\t\\t\\t\\t\\tcontinue\"\"\".format(line,line,line)\n",
    "            cnt+=1\n",
    "        else:\n",
    "            str_tmp1+=\"\"\"\n",
    "\\t\\t\\t\\tif(line.find(\"@{}:\")!=-1):\n",
    "\\t\\t\\t\\t\\tddc[\"@{}:\"] = line\n",
    "\\t\\t\\t\\t\\tdd[\"@{}:\"] = 1\n",
    "\\t\\t\\t\\t\\tflag = 1\n",
    "\\t\\t\\t\\t\\tcontinue\"\"\".format(line,line,line)\n",
    "    str_tmp1+=\"\"\"\n",
    "\\tticks = time.time()\n",
    "\\tprint (time.strftime(\"%Y-%m-%d %H:%M:%S\", time.localtime()))\n",
    "\\tprint (\"完成讀取，總共有幾組DATA:{}\".format(len(data)))\n",
    "\\tprint(\"請下寫入檔案指令\")\n",
    "\\tprint(\"write_DB_file()\")\n",
    "\\treturn data\"\"\"\n",
    "    return str_tmp1\n",
    "        "
   ]
  },
  {
   "cell_type": "code",
   "execution_count": null,
   "metadata": {},
   "outputs": [],
   "source": [
    "def url_index_DB(data):\n",
    "    flag = 0\n",
    "    str_tmp1 = \"\"\"def url_index_DB(data):\n",
    "\\tdata_len = len(data)\n",
    "\\tcount = 0\n",
    "\\tfile_name = \"測試用\"\n",
    "\\tsSkipList = create_python.SkipList()\n",
    "\\tprint(\"開使建立INDEX的時間\")\n",
    "\\tticks = time.time()\n",
    "\\tprint (time.strftime(\"%Y-%m-%d %H:%M:%S\", time.localtime()))\n",
    "\\tfor i in range(len(data)):\n",
    "\\t\\tif(i%5000==0):\n",
    "\\t\\t\\tcount+=1\n",
    "\\t\\tsSkipList.insert(\"\"\"\n",
    "    \n",
    "    for line in data:\n",
    "        str_tmp1+=\"\"\"data[i][\"@{}:\"],\"\"\".format(line)\n",
    "        if(flag == 0):\n",
    "            str_tmp1+=\"\"\"\\\"DB_{}.txt\\\".format(count),\"\"\"\n",
    "            str_tmp1+=\"\"\"data[i][\"@{}:\"],\"\"\".format(line)\n",
    "            flag=1\n",
    "        \n",
    "    str_tmp1+=\"\"\")\n",
    "\\tticks = time.time()\n",
    "\\tprint(\"完成建立INDEX的時間\")\n",
    "\\tprint (time.strftime(\"%Y-%m-%d %H:%M:%S\", time.localtime()))\n",
    "\\treturn sSkipList\"\"\"\n",
    "    return str_tmp1"
   ]
  },
  {
   "cell_type": "code",
   "execution_count": null,
   "metadata": {},
   "outputs": [],
   "source": [
    "def write_DB_file():\n",
    "    str_tmp1 = \"\"\"def write_DB_file(data):\n",
    "\\tprint(\"寫入時間是很久的唷，請去寫其他功課吧！\")\n",
    "\\tprint(\"開始寫入檔案的時間\")\n",
    "\\tname_number = 0\n",
    "\\tfile_name = \"DB_{}.txt\".format(name_number)\n",
    "\\tsSkipList = create_python.SkipList()\n",
    "\\tticks = time.time()\n",
    "\\tprint (time.strftime(\"%Y-%m-%d %H:%M:%S\", time.localtime()))\n",
    "\\tfor i in range(len(data)):\n",
    "\\t\\tif i%5000 == 0:\n",
    "\\t\\t\\tname_number +=1\n",
    "\\t\\t\\tfile_name = \"DB_{}.txt\".format(name_number)\n",
    "\\t\\t\\tprint(file_name)\n",
    "\\t\\t\\tticks = time.time()\n",
    "\\t\\t\\tprint (time.strftime(\"%Y-%m-%d %H:%M:%S\", time.localtime())) \n",
    "\\t\\twrite_file(file_name,data[i])\n",
    "\\t\\tsSkipList.insert(data[i][\"@url:\"],file_name)\n",
    "\\tticks = time.time()\n",
    "\\tprint(\"完成寫入檔案時間\")\n",
    "\\tprint (time.strftime(\"%Y-%m-%d %H:%M:%S\", time.localtime()))\n",
    "\\treturn sSkipList\"\"\"\n",
    "    return str_tmp1"
   ]
  },
  {
   "cell_type": "code",
   "execution_count": null,
   "metadata": {
    "collapsed": true
   },
   "outputs": [],
   "source": [
    "def create_input(data):\n",
    "    str_tmp1 = get_import()\n",
    "    str_tmp2 = get_dd(data)\n",
    "    str_tmp3 = get_ddc(data)\n",
    "    str_tmp4 = get_bool()\n",
    "    str_tmp5 = write_file()\n",
    "    str_tmp6 = input_main(data)\n",
    "    str_tmp7 = url_index_DB(data)\n",
    "    str_tmp8 = write_DB_file()\n",
    "    with open(\"input_python.py\",'w',encoding='utf-8') as f:\n",
    "            f.write(str_tmp1)\n",
    "            f.write(\"\\n\")\n",
    "            f.write(str_tmp2)\n",
    "            f.write(\"\\n\")\n",
    "            f.write(str_tmp3)\n",
    "            f.write(\"\\n\")\n",
    "            f.write(str_tmp4)\n",
    "            f.write(\"\\n\")\n",
    "            f.write(str_tmp5)\n",
    "            f.write(\"\\n\")\n",
    "            f.write(str_tmp6)\n",
    "            f.write(\"\\n\")\n",
    "            f.write(str_tmp7)\n",
    "            f.write(\"\\n\")\n",
    "            f.write(str_tmp8)\n",
    "            f.write(\"\\n\")"
   ]
  },
  {
   "cell_type": "code",
   "execution_count": null,
   "metadata": {},
   "outputs": [],
   "source": [
    "# create_input(data)"
   ]
  },
  {
   "cell_type": "code",
   "execution_count": null,
   "metadata": {
    "collapsed": true
   },
   "outputs": [],
   "source": []
  },
  {
   "cell_type": "code",
   "execution_count": null,
   "metadata": {
    "collapsed": true
   },
   "outputs": [],
   "source": []
  },
  {
   "cell_type": "code",
   "execution_count": null,
   "metadata": {
    "collapsed": true
   },
   "outputs": [],
   "source": []
  }
 ],
 "metadata": {
  "kernelspec": {
   "display_name": "Python 3",
   "language": "python",
   "name": "python3"
  },
  "language_info": {
   "codemirror_mode": {
    "name": "ipython",
    "version": 3
   },
   "file_extension": ".py",
   "mimetype": "text/x-python",
   "name": "python",
   "nbconvert_exporter": "python",
   "pygments_lexer": "ipython3",
   "version": "3.6.3"
  }
 },
 "nbformat": 4,
 "nbformat_minor": 2
}
