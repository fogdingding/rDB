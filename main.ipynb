{
 "cells": [
  {
   "cell_type": "code",
   "execution_count": 76,
   "metadata": {
    "collapsed": true
   },
   "outputs": [],
   "source": [
    "# import import_ipynb\n",
    "import create_ipy\n",
    "import input_ipy"
   ]
  },
  {
   "cell_type": "code",
   "execution_count": 77,
   "metadata": {
    "collapsed": true
   },
   "outputs": [],
   "source": [
    "def get_youtubeId(youtube_url):\n",
    "    tmp = youtube_url.split(\"https://www.youtube.com/watch?v=\")\n",
    "    tmp = tmp[1].replace('\\n','')\n",
    "    return tmp"
   ]
  },
  {
   "cell_type": "code",
   "execution_count": 78,
   "metadata": {
    "collapsed": true
   },
   "outputs": [],
   "source": [
    "def get_youtube_jpg(youtube_id):\n",
    "    return \"https://i.ytimg.com/vi/{}/hqdefault.jpg\".format(youtube_id)"
   ]
  },
  {
   "cell_type": "code",
   "execution_count": null,
   "metadata": {
    "collapsed": true
   },
   "outputs": [],
   "source": []
  },
  {
   "cell_type": "code",
   "execution_count": 79,
   "metadata": {
    "collapsed": true
   },
   "outputs": [],
   "source": [
    "def get_find_full(data,key_word):\n",
    "    ans = []\n",
    "    for index,line in enumerate(data[0]):\n",
    "        if line.find(key_word)!=-1:\n",
    "            tmp = \"\"\n",
    "            tmp = \"{}---{}\".format(data[1][index],line)\n",
    "            ans.append(tmp)\n",
    "    return ans"
   ]
  },
  {
   "cell_type": "code",
   "execution_count": 80,
   "metadata": {
    "collapsed": true
   },
   "outputs": [],
   "source": [
    "data = []\n",
    "data.append(\"url\")\n",
    "data.append(\"title\")\n",
    "data.append(\"content\")\n",
    "data.append(\"viewCount\")\n",
    "data.append(\"res\")\n",
    "# data.append(\"duration\")"
   ]
  },
  {
   "cell_type": "code",
   "execution_count": 81,
   "metadata": {
    "collapsed": true
   },
   "outputs": [],
   "source": [
    "file_name = \"DB_data.txt\""
   ]
  },
  {
   "cell_type": "code",
   "execution_count": 82,
   "metadata": {
    "collapsed": true
   },
   "outputs": [],
   "source": [
    "def write_file(file_name,data):\n",
    "    with open(file_name,'w',encoding='utf-8') as f:\n",
    "        f.write(file_name)\n",
    "        f.write(\"\\n\")\n",
    "        for line in data:\n",
    "            f.write(line)\n",
    "            f.write(\"\\n\")\n",
    "        f.write(\"\\n\")"
   ]
  },
  {
   "cell_type": "code",
   "execution_count": 83,
   "metadata": {
    "collapsed": true
   },
   "outputs": [],
   "source": [
    "write_file(file_name,data)"
   ]
  },
  {
   "cell_type": "code",
   "execution_count": 84,
   "metadata": {
    "collapsed": true
   },
   "outputs": [],
   "source": [
    "create_ipy.create_table(data)\n",
    "input_ipy.create_input(data)"
   ]
  },
  {
   "cell_type": "code",
   "execution_count": 85,
   "metadata": {
    "collapsed": true
   },
   "outputs": [],
   "source": [
    "import create_python\n",
    "import input_python"
   ]
  },
  {
   "cell_type": "code",
   "execution_count": 86,
   "metadata": {},
   "outputs": [
    {
     "name": "stdout",
     "output_type": "stream",
     "text": [
      "讀取檔案的時間\n",
      "2019-06-26 06:02:32\n",
      "2019-06-26 06:02:33\n",
      "完成讀取，總共有幾組DATA:89076\n",
      "請下寫入檔案指令\n",
      "write_DB_file()\n"
     ]
    }
   ],
   "source": [
    "data = input_python.input_main(\"youtube.part.part.aa\")"
   ]
  },
  {
   "cell_type": "code",
   "execution_count": 87,
   "metadata": {},
   "outputs": [
    {
     "data": {
      "text/plain": [
       "89076"
      ]
     },
     "execution_count": 87,
     "metadata": {},
     "output_type": "execute_result"
    }
   ],
   "source": [
    "len(data)"
   ]
  },
  {
   "cell_type": "code",
   "execution_count": 39,
   "metadata": {},
   "outputs": [
    {
     "data": {
      "text/plain": [
       "'@url:https://www.youtube.com/watch?v=d4SZzFuZQjs\\n'"
      ]
     },
     "execution_count": 39,
     "metadata": {},
     "output_type": "execute_result"
    }
   ],
   "source": [
    "data[1][\"@url:\"]"
   ]
  },
  {
   "cell_type": "code",
   "execution_count": 40,
   "metadata": {},
   "outputs": [
    {
     "name": "stdout",
     "output_type": "stream",
     "text": [
      "開使建立INDEX的時間\n",
      "2019-06-26 05:25:25\n",
      "完成建立INDEX的時間\n",
      "2019-06-26 05:25:27\n"
     ]
    }
   ],
   "source": [
    "sSkipList = input_python.url_index_DB(data)"
   ]
  },
  {
   "cell_type": "code",
   "execution_count": 41,
   "metadata": {},
   "outputs": [
    {
     "name": "stdout",
     "output_type": "stream",
     "text": [
      "<class 'create_python.SkipList'>\n"
     ]
    }
   ],
   "source": [
    "print(type(sSkipList))"
   ]
  },
  {
   "cell_type": "code",
   "execution_count": 42,
   "metadata": {
    "collapsed": true
   },
   "outputs": [],
   "source": [
    "# sSkipList.printList()"
   ]
  },
  {
   "cell_type": "code",
   "execution_count": 43,
   "metadata": {},
   "outputs": [
    {
     "name": "stdout",
     "output_type": "stream",
     "text": [
      "<class 'create_python.SkipNode'>\n"
     ]
    }
   ],
   "source": [
    "node = sSkipList.find(\"@url:https://www.youtube.com/watch?v=cuYqo8wq0lg\\n\")\n",
    "print(type(node))"
   ]
  },
  {
   "cell_type": "code",
   "execution_count": 44,
   "metadata": {},
   "outputs": [
    {
     "name": "stdout",
     "output_type": "stream",
     "text": [
      "@url:https://www.youtube.com/watch?v=cuYqo8wq0lg\n",
      "\n"
     ]
    }
   ],
   "source": [
    "print(node.url)"
   ]
  },
  {
   "cell_type": "code",
   "execution_count": null,
   "metadata": {
    "collapsed": true
   },
   "outputs": [],
   "source": [
    "sSkipList.remove(\"@url:https://www.youtube.com/watch?v=cuYqo8wq0lg\\n\")\n",
    "node = sSkipList.find(\"@url:https://www.youtube.com/watch?v=cuYqo8wq0lg\\n\")\n",
    "print(type(node))"
   ]
  },
  {
   "cell_type": "code",
   "execution_count": null,
   "metadata": {
    "collapsed": true
   },
   "outputs": [],
   "source": [
    "# w_sSkipList = input_file.write_DB_file(data)"
   ]
  },
  {
   "cell_type": "code",
   "execution_count": 51,
   "metadata": {
    "collapsed": true
   },
   "outputs": [],
   "source": [
    "none = sSkipList.get_ALL()"
   ]
  },
  {
   "cell_type": "code",
   "execution_count": 52,
   "metadata": {
    "collapsed": true
   },
   "outputs": [],
   "source": [
    "# w_data = w_sSkipList.get_ALL()"
   ]
  },
  {
   "cell_type": "code",
   "execution_count": 53,
   "metadata": {},
   "outputs": [
    {
     "data": {
      "text/plain": [
       "'DB_18.txt---@url:https://www.youtube.com/watch?v=aTCWk7sdId4\\n'"
      ]
     },
     "execution_count": 53,
     "metadata": {},
     "output_type": "execute_result"
    }
   ],
   "source": [
    "get_find_full(none,\"d4\")[1]"
   ]
  },
  {
   "cell_type": "code",
   "execution_count": 62,
   "metadata": {
    "collapsed": true
   },
   "outputs": [],
   "source": [
    "test = \"DB_18.txt---@url:https://www.youtube.com/watch?v=aTCWk7sdId4\\n\""
   ]
  },
  {
   "cell_type": "code",
   "execution_count": 63,
   "metadata": {
    "collapsed": true
   },
   "outputs": [],
   "source": [
    "tmp = test.split(\"---\")"
   ]
  },
  {
   "cell_type": "code",
   "execution_count": null,
   "metadata": {
    "collapsed": true
   },
   "outputs": [],
   "source": [
    "youtube"
   ]
  },
  {
   "cell_type": "code",
   "execution_count": 64,
   "metadata": {},
   "outputs": [],
   "source": [
    "key = tmp[0]"
   ]
  },
  {
   "cell_type": "code",
   "execution_count": 65,
   "metadata": {},
   "outputs": [],
   "source": [
    "value = tmp[1].replace(\"@url:\",\"\").replace(\"\\n\",\"\")"
   ]
  },
  {
   "cell_type": "code",
   "execution_count": 66,
   "metadata": {},
   "outputs": [],
   "source": [
    "value_id = get_youtubeId(value)"
   ]
  },
  {
   "cell_type": "code",
   "execution_count": 68,
   "metadata": {},
   "outputs": [
    {
     "data": {
      "text/plain": [
       "('DB_18.txt', 'https://www.youtube.com/watch?v=aTCWk7sdId4', 'aTCWk7sdId4')"
      ]
     },
     "execution_count": 68,
     "metadata": {},
     "output_type": "execute_result"
    }
   ],
   "source": [
    "key,value,value_id"
   ]
  },
  {
   "cell_type": "code",
   "execution_count": 72,
   "metadata": {
    "collapsed": true
   },
   "outputs": [],
   "source": [
    "def get_list_url_data(string_data):\n",
    "    tmp = string_data.split(\"---\")\n",
    "    key = tmp[0]\n",
    "    youtube = tmp[1].replace(\"@url:\",\"\").replace(\"\\n\",\"\")\n",
    "    youtube_id = get_youtubeId(youtube)\n",
    "    youtube_jpg = get_youtube_jpg(youtube_id)\n",
    "    tmp_data = []\n",
    "    tmp_data.append(key)\n",
    "    tmp_data.append(youtube)\n",
    "    tmp_data.append(youtube_jpg)\n",
    "    return tmp_data"
   ]
  },
  {
   "cell_type": "code",
   "execution_count": 73,
   "metadata": {},
   "outputs": [
    {
     "data": {
      "text/plain": [
       "['DB_18.txt',\n",
       " 'https://www.youtube.com/watch?v=aTCWk7sdId4',\n",
       " 'https://i.ytimg.com/vi/aTCWk7sdId4/hqdefault.jpg']"
      ]
     },
     "execution_count": 73,
     "metadata": {},
     "output_type": "execute_result"
    }
   ],
   "source": [
    "get_list_url_data(\"DB_18.txt---@url:https://www.youtube.com/watch?v=aTCWk7sdId4\\n\")"
   ]
  },
  {
   "cell_type": "code",
   "execution_count": 74,
   "metadata": {},
   "outputs": [
    {
     "name": "stdout",
     "output_type": "stream",
     "text": [
      "0\n",
      "1\n",
      "2\n",
      "3\n",
      "4\n",
      "5\n",
      "6\n",
      "7\n",
      "8\n"
     ]
    }
   ],
   "source": [
    "for i in range(0,9):\n",
    "    print(i)"
   ]
  },
  {
   "cell_type": "code",
   "execution_count": 75,
   "metadata": {},
   "outputs": [
    {
     "data": {
      "text/plain": [
       "1"
      ]
     },
     "execution_count": 75,
     "metadata": {},
     "output_type": "execute_result"
    }
   ],
   "source": [
    "int(\"1\")"
   ]
  },
  {
   "cell_type": "code",
   "execution_count": null,
   "metadata": {
    "collapsed": true
   },
   "outputs": [],
   "source": []
  }
 ],
 "metadata": {
  "kernelspec": {
   "display_name": "Python 3",
   "language": "python",
   "name": "python3"
  },
  "language_info": {
   "codemirror_mode": {
    "name": "ipython",
    "version": 3
   },
   "file_extension": ".py",
   "mimetype": "text/x-python",
   "name": "python",
   "nbconvert_exporter": "python",
   "pygments_lexer": "ipython3",
   "version": "3.6.3"
  }
 },
 "nbformat": 4,
 "nbformat_minor": 2
}
