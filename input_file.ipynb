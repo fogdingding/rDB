{
 "cells": [
  {
   "cell_type": "code",
   "execution_count": null,
   "metadata": {
    "collapsed": true
   },
   "outputs": [],
   "source": [
    "import time\n",
    "import test"
   ]
  },
  {
   "cell_type": "code",
   "execution_count": null,
   "metadata": {
    "collapsed": true
   },
   "outputs": [],
   "source": [
    "def get_dd():\n",
    "    dd = {\"@url:\" : 0, \"@title:\" : 0, \"@content:\" : 0, \"@viewCount:\":0, \"@res:\":0, \"@duration:\":0 }\n",
    "    return dd"
   ]
  },
  {
   "cell_type": "code",
   "execution_count": null,
   "metadata": {
    "collapsed": true
   },
   "outputs": [],
   "source": [
    "def get_ddc():\n",
    "    dd = {\"@url:\" : \"\", \"@title:\" : \"\", \"@content:\" : \"\", \"@viewCount:\":\"\", \"@res:\":\"\", \"@duration:\":\"\" ,\"@\":\"\"}\n",
    "    return dd"
   ]
  },
  {
   "cell_type": "code",
   "execution_count": null,
   "metadata": {
    "collapsed": true
   },
   "outputs": [],
   "source": [
    "def get_bool(dd):\n",
    "    for i in dd:\n",
    "        if (dd[i] == 0):\n",
    "            return False\n",
    "    return True"
   ]
  },
  {
   "cell_type": "code",
   "execution_count": null,
   "metadata": {
    "collapsed": true
   },
   "outputs": [],
   "source": [
    "def write_file(file_name,data):\n",
    "    with open(file_name,'a',encoding='utf-8') as f:\n",
    "        for line in data:\n",
    "            f.write(data[line])\n",
    "        f.write(\"@\\n\")"
   ]
  },
  {
   "cell_type": "code",
   "execution_count": null,
   "metadata": {
    "collapsed": true
   },
   "outputs": [],
   "source": [
    "def input_main(file_path):\n",
    "    data = []\n",
    "    line_text = \"\"\n",
    "    ticks = time.time()\n",
    "    print(\"讀取檔案的時間\")\n",
    "    print (time.strftime(\"%Y-%m-%d %H:%M:%S\", time.localtime()))\n",
    "    with open(file_path,encoding='utf-8') as fin:\n",
    "        flag = 0\n",
    "        count = 0\n",
    "        ddc = get_ddc()\n",
    "        dd = get_dd()\n",
    "        for line in fin:\n",
    "            count+=1\n",
    "            if (get_bool(dd)):\n",
    "                data.append(ddc)\n",
    "                ddc = get_ddc()\n",
    "                dd = get_dd()\n",
    "                continue\n",
    "            else:\n",
    "                if(line.find(\"@url:\")!=-1):\n",
    "                    ddc[\"@url:\"] = line\n",
    "                    dd[\"@url:\"] = 1\n",
    "                    continue\n",
    "                if(line.find(\"@title:\")!=-1):\n",
    "                    ddc[\"@title:\"] = line\n",
    "                    dd[\"@title:\"] = 1\n",
    "                    continue\n",
    "                if(line.find(\"@content:\")!=-1):\n",
    "                    ddc[\"@content:\"] = line\n",
    "                    dd[\"@content:\"] = 1\n",
    "                    continue\n",
    "                if(line.find(\"@viewCount:\")!=-1):\n",
    "                    ddc[\"@viewCount:\"] = line\n",
    "                    dd[\"@viewCount:\"] = 1\n",
    "                    continue\n",
    "                if(line.find(\"@res:\")!=-1):\n",
    "                    ddc[\"@res:\"] = line\n",
    "                    dd[\"@res:\"] = 1\n",
    "                    continue\n",
    "                if(line.find(\"@duration:\")!=-1):\n",
    "                    ddc[\"@duration:\"] = line\n",
    "                    dd[\"@duration:\"] = 1\n",
    "                    flag = 1\n",
    "                    continue\n",
    "    ticks = time.time()\n",
    "    print (time.strftime(\"%Y-%m-%d %H:%M:%S\", time.localtime()))\n",
    "    print (\"完成讀取，總共有幾組DATA:{}\".format(len(data)))\n",
    "    print(\"請下寫入檔案指令\")\n",
    "    print(\"write_DB_file()\")\n",
    "    return data"
   ]
  },
  {
   "cell_type": "code",
   "execution_count": null,
   "metadata": {
    "collapsed": true
   },
   "outputs": [],
   "source": [
    "def url_index_DB(data):\n",
    "    file_name = \"測試用\"\n",
    "    sSkipList = test.SkipList()\n",
    "    print(\"開使建立INDEX的時間\")\n",
    "    ticks = time.time()\n",
    "    print (time.strftime(\"%Y-%m-%d %H:%M:%S\", time.localtime()))\n",
    "    for i in range(len(data)):\n",
    "        sSkipList.insert(data[i][\"@url:\"],file_name,data[i][\"@title:\"],data[i][\"@content:\"],data[i][\"@viewCount:\"],data[i][\"@res:\"],data[i][\"@duration:\"],)\n",
    "    ticks = time.time()\n",
    "    print(\"完成建立INDEX的時間\")\n",
    "    print (time.strftime(\"%Y-%m-%d %H:%M:%S\", time.localtime()))\n",
    "    return sSkipList"
   ]
  },
  {
   "cell_type": "code",
   "execution_count": null,
   "metadata": {
    "collapsed": true
   },
   "outputs": [],
   "source": [
    "def write_DB_file(data):\n",
    "    print(\"寫入時間是很久的唷，請去寫其他功課吧！\")\n",
    "    print(\"開始寫入檔案的時間\")\n",
    "    name_number = 0\n",
    "    file_name = \"DB_{}.txt\".format(name_number)\n",
    "    sSkipList = test.SkipList()\n",
    "    ticks = time.time()\n",
    "    print (time.strftime(\"%Y-%m-%d %H:%M:%S\", time.localtime()))\n",
    "    for i in range(len(data)):\n",
    "        if i%5000 == 0:\n",
    "            name_number +=1\n",
    "            file_name = \"DB_{}.txt\".format(name_number)\n",
    "            print(file_name)\n",
    "            ticks = time.time()\n",
    "            print (time.strftime(\"%Y-%m-%d %H:%M:%S\", time.localtime())) \n",
    "        write_file(file_name,data[i])\n",
    "        sSkipList.insert(data[i][\"@url:\"],file_name)\n",
    "    ticks = time.time()\n",
    "    print(\"完成寫入檔案時間\")\n",
    "    print (time.strftime(\"%Y-%m-%d %H:%M:%S\", time.localtime()))\n",
    "    return sSkipList"
   ]
  },
  {
   "cell_type": "code",
   "execution_count": null,
   "metadata": {
    "collapsed": true
   },
   "outputs": [],
   "source": []
  }
 ],
 "metadata": {
  "kernelspec": {
   "display_name": "Python 3",
   "language": "python",
   "name": "python3"
  },
  "language_info": {
   "codemirror_mode": {
    "name": "ipython",
    "version": 3
   },
   "file_extension": ".py",
   "mimetype": "text/x-python",
   "name": "python",
   "nbconvert_exporter": "python",
   "pygments_lexer": "ipython3",
   "version": "3.6.3"
  }
 },
 "nbformat": 4,
 "nbformat_minor": 2
}
